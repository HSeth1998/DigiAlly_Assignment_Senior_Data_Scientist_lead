{
 "cells": [
  {
   "cell_type": "code",
   "execution_count": 21,
   "id": "b710b3b4",
   "metadata": {},
   "outputs": [],
   "source": [
    "import numpy as np\n",
    "import pandas as pd\n",
    "import matplotlib.pyplot as plt\n",
    "import seaborn as sns"
   ]
  },
  {
   "cell_type": "code",
   "execution_count": 22,
   "id": "a7ef89be",
   "metadata": {},
   "outputs": [
    {
     "data": {
      "text/html": [
       "<div>\n",
       "<style scoped>\n",
       "    .dataframe tbody tr th:only-of-type {\n",
       "        vertical-align: middle;\n",
       "    }\n",
       "\n",
       "    .dataframe tbody tr th {\n",
       "        vertical-align: top;\n",
       "    }\n",
       "\n",
       "    .dataframe thead th {\n",
       "        text-align: right;\n",
       "    }\n",
       "</style>\n",
       "<table border=\"1\" class=\"dataframe\">\n",
       "  <thead>\n",
       "    <tr style=\"text-align: right;\">\n",
       "      <th></th>\n",
       "      <th>Ind_ID</th>\n",
       "      <th>GENDER</th>\n",
       "      <th>Car_Owner</th>\n",
       "      <th>Propert_Owner</th>\n",
       "      <th>CHILDREN</th>\n",
       "      <th>Annual_income</th>\n",
       "      <th>Type_Income</th>\n",
       "      <th>EDUCATION</th>\n",
       "      <th>Marital_status</th>\n",
       "      <th>Housing_type</th>\n",
       "      <th>Birthday_count</th>\n",
       "      <th>Employed_days</th>\n",
       "      <th>Mobile_phone</th>\n",
       "      <th>Work_Phone</th>\n",
       "      <th>Phone</th>\n",
       "      <th>EMAIL_ID</th>\n",
       "      <th>Type_Occupation</th>\n",
       "      <th>Family_Members</th>\n",
       "    </tr>\n",
       "  </thead>\n",
       "  <tbody>\n",
       "    <tr>\n",
       "      <th>0</th>\n",
       "      <td>5008827</td>\n",
       "      <td>M</td>\n",
       "      <td>Y</td>\n",
       "      <td>Y</td>\n",
       "      <td>0</td>\n",
       "      <td>180000.0</td>\n",
       "      <td>Pensioner</td>\n",
       "      <td>Higher education</td>\n",
       "      <td>Married</td>\n",
       "      <td>House / apartment</td>\n",
       "      <td>-18772.0</td>\n",
       "      <td>365243</td>\n",
       "      <td>1</td>\n",
       "      <td>0</td>\n",
       "      <td>0</td>\n",
       "      <td>0</td>\n",
       "      <td>NaN</td>\n",
       "      <td>2</td>\n",
       "    </tr>\n",
       "    <tr>\n",
       "      <th>1</th>\n",
       "      <td>5009744</td>\n",
       "      <td>F</td>\n",
       "      <td>Y</td>\n",
       "      <td>N</td>\n",
       "      <td>0</td>\n",
       "      <td>315000.0</td>\n",
       "      <td>Commercial associate</td>\n",
       "      <td>Higher education</td>\n",
       "      <td>Married</td>\n",
       "      <td>House / apartment</td>\n",
       "      <td>-13557.0</td>\n",
       "      <td>-586</td>\n",
       "      <td>1</td>\n",
       "      <td>1</td>\n",
       "      <td>1</td>\n",
       "      <td>0</td>\n",
       "      <td>NaN</td>\n",
       "      <td>2</td>\n",
       "    </tr>\n",
       "    <tr>\n",
       "      <th>2</th>\n",
       "      <td>5009746</td>\n",
       "      <td>F</td>\n",
       "      <td>Y</td>\n",
       "      <td>N</td>\n",
       "      <td>0</td>\n",
       "      <td>315000.0</td>\n",
       "      <td>Commercial associate</td>\n",
       "      <td>Higher education</td>\n",
       "      <td>Married</td>\n",
       "      <td>House / apartment</td>\n",
       "      <td>NaN</td>\n",
       "      <td>-586</td>\n",
       "      <td>1</td>\n",
       "      <td>1</td>\n",
       "      <td>1</td>\n",
       "      <td>0</td>\n",
       "      <td>NaN</td>\n",
       "      <td>2</td>\n",
       "    </tr>\n",
       "    <tr>\n",
       "      <th>3</th>\n",
       "      <td>5009749</td>\n",
       "      <td>F</td>\n",
       "      <td>Y</td>\n",
       "      <td>N</td>\n",
       "      <td>0</td>\n",
       "      <td>NaN</td>\n",
       "      <td>Commercial associate</td>\n",
       "      <td>Higher education</td>\n",
       "      <td>Married</td>\n",
       "      <td>House / apartment</td>\n",
       "      <td>-13557.0</td>\n",
       "      <td>-586</td>\n",
       "      <td>1</td>\n",
       "      <td>1</td>\n",
       "      <td>1</td>\n",
       "      <td>0</td>\n",
       "      <td>NaN</td>\n",
       "      <td>2</td>\n",
       "    </tr>\n",
       "    <tr>\n",
       "      <th>4</th>\n",
       "      <td>5009752</td>\n",
       "      <td>F</td>\n",
       "      <td>Y</td>\n",
       "      <td>N</td>\n",
       "      <td>0</td>\n",
       "      <td>315000.0</td>\n",
       "      <td>Commercial associate</td>\n",
       "      <td>Higher education</td>\n",
       "      <td>Married</td>\n",
       "      <td>House / apartment</td>\n",
       "      <td>-13557.0</td>\n",
       "      <td>-586</td>\n",
       "      <td>1</td>\n",
       "      <td>1</td>\n",
       "      <td>1</td>\n",
       "      <td>0</td>\n",
       "      <td>NaN</td>\n",
       "      <td>2</td>\n",
       "    </tr>\n",
       "  </tbody>\n",
       "</table>\n",
       "</div>"
      ],
      "text/plain": [
       "    Ind_ID GENDER Car_Owner Propert_Owner  CHILDREN  Annual_income   \n",
       "0  5008827      M         Y             Y         0       180000.0  \\\n",
       "1  5009744      F         Y             N         0       315000.0   \n",
       "2  5009746      F         Y             N         0       315000.0   \n",
       "3  5009749      F         Y             N         0            NaN   \n",
       "4  5009752      F         Y             N         0       315000.0   \n",
       "\n",
       "            Type_Income         EDUCATION Marital_status       Housing_type   \n",
       "0             Pensioner  Higher education        Married  House / apartment  \\\n",
       "1  Commercial associate  Higher education        Married  House / apartment   \n",
       "2  Commercial associate  Higher education        Married  House / apartment   \n",
       "3  Commercial associate  Higher education        Married  House / apartment   \n",
       "4  Commercial associate  Higher education        Married  House / apartment   \n",
       "\n",
       "   Birthday_count  Employed_days  Mobile_phone  Work_Phone  Phone  EMAIL_ID   \n",
       "0        -18772.0         365243             1           0      0         0  \\\n",
       "1        -13557.0           -586             1           1      1         0   \n",
       "2             NaN           -586             1           1      1         0   \n",
       "3        -13557.0           -586             1           1      1         0   \n",
       "4        -13557.0           -586             1           1      1         0   \n",
       "\n",
       "  Type_Occupation  Family_Members  \n",
       "0             NaN               2  \n",
       "1             NaN               2  \n",
       "2             NaN               2  \n",
       "3             NaN               2  \n",
       "4             NaN               2  "
      ]
     },
     "execution_count": 22,
     "metadata": {},
     "output_type": "execute_result"
    }
   ],
   "source": [
    "df = pd.read_csv(r\"C:\\Users\\Lenovo\\Downloads\\Credit card dataset\\Credit_card.csv\")\n",
    "df.head()"
   ]
  },
  {
   "cell_type": "code",
   "execution_count": 23,
   "id": "3c635cc6",
   "metadata": {},
   "outputs": [
    {
     "data": {
      "text/plain": [
       "(299, 18)"
      ]
     },
     "execution_count": 23,
     "metadata": {},
     "output_type": "execute_result"
    }
   ],
   "source": [
    "df.shape"
   ]
  },
  {
   "cell_type": "code",
   "execution_count": 24,
   "id": "c8b12f2a",
   "metadata": {},
   "outputs": [
    {
     "data": {
      "text/html": [
       "<div>\n",
       "<style scoped>\n",
       "    .dataframe tbody tr th:only-of-type {\n",
       "        vertical-align: middle;\n",
       "    }\n",
       "\n",
       "    .dataframe tbody tr th {\n",
       "        vertical-align: top;\n",
       "    }\n",
       "\n",
       "    .dataframe thead th {\n",
       "        text-align: right;\n",
       "    }\n",
       "</style>\n",
       "<table border=\"1\" class=\"dataframe\">\n",
       "  <thead>\n",
       "    <tr style=\"text-align: right;\">\n",
       "      <th></th>\n",
       "      <th>Ind_ID</th>\n",
       "      <th>label</th>\n",
       "    </tr>\n",
       "  </thead>\n",
       "  <tbody>\n",
       "    <tr>\n",
       "      <th>0</th>\n",
       "      <td>5008827</td>\n",
       "      <td>1</td>\n",
       "    </tr>\n",
       "    <tr>\n",
       "      <th>1</th>\n",
       "      <td>5009744</td>\n",
       "      <td>1</td>\n",
       "    </tr>\n",
       "    <tr>\n",
       "      <th>2</th>\n",
       "      <td>5009746</td>\n",
       "      <td>1</td>\n",
       "    </tr>\n",
       "    <tr>\n",
       "      <th>3</th>\n",
       "      <td>5009749</td>\n",
       "      <td>1</td>\n",
       "    </tr>\n",
       "    <tr>\n",
       "      <th>4</th>\n",
       "      <td>5009752</td>\n",
       "      <td>1</td>\n",
       "    </tr>\n",
       "  </tbody>\n",
       "</table>\n",
       "</div>"
      ],
      "text/plain": [
       "    Ind_ID  label\n",
       "0  5008827      1\n",
       "1  5009744      1\n",
       "2  5009746      1\n",
       "3  5009749      1\n",
       "4  5009752      1"
      ]
     },
     "execution_count": 24,
     "metadata": {},
     "output_type": "execute_result"
    }
   ],
   "source": [
    "df_label = pd.read_csv(r\"C:\\Users\\Lenovo\\Downloads\\Credit card dataset\\Credit_card_label.csv\")\n",
    "df_label.head()\n",
    "                       "
   ]
  },
  {
   "cell_type": "code",
   "execution_count": 25,
   "id": "50771fd0",
   "metadata": {},
   "outputs": [
    {
     "data": {
      "text/plain": [
       "(299, 2)"
      ]
     },
     "execution_count": 25,
     "metadata": {},
     "output_type": "execute_result"
    }
   ],
   "source": [
    "df_label.shape"
   ]
  },
  {
   "cell_type": "code",
   "execution_count": 26,
   "id": "4b5e816c",
   "metadata": {},
   "outputs": [
    {
     "data": {
      "text/html": [
       "<div>\n",
       "<style scoped>\n",
       "    .dataframe tbody tr th:only-of-type {\n",
       "        vertical-align: middle;\n",
       "    }\n",
       "\n",
       "    .dataframe tbody tr th {\n",
       "        vertical-align: top;\n",
       "    }\n",
       "\n",
       "    .dataframe thead th {\n",
       "        text-align: right;\n",
       "    }\n",
       "</style>\n",
       "<table border=\"1\" class=\"dataframe\">\n",
       "  <thead>\n",
       "    <tr style=\"text-align: right;\">\n",
       "      <th></th>\n",
       "      <th>Ind_ID</th>\n",
       "      <th>GENDER</th>\n",
       "      <th>Car_Owner</th>\n",
       "      <th>Propert_Owner</th>\n",
       "      <th>CHILDREN</th>\n",
       "      <th>Annual_income</th>\n",
       "      <th>Type_Income</th>\n",
       "      <th>EDUCATION</th>\n",
       "      <th>Marital_status</th>\n",
       "      <th>Housing_type</th>\n",
       "      <th>Birthday_count</th>\n",
       "      <th>Employed_days</th>\n",
       "      <th>Mobile_phone</th>\n",
       "      <th>Work_Phone</th>\n",
       "      <th>Phone</th>\n",
       "      <th>EMAIL_ID</th>\n",
       "      <th>Type_Occupation</th>\n",
       "      <th>Family_Members</th>\n",
       "      <th>label</th>\n",
       "    </tr>\n",
       "  </thead>\n",
       "  <tbody>\n",
       "    <tr>\n",
       "      <th>0</th>\n",
       "      <td>5008827</td>\n",
       "      <td>M</td>\n",
       "      <td>Y</td>\n",
       "      <td>Y</td>\n",
       "      <td>0</td>\n",
       "      <td>180000.0</td>\n",
       "      <td>Pensioner</td>\n",
       "      <td>Higher education</td>\n",
       "      <td>Married</td>\n",
       "      <td>House / apartment</td>\n",
       "      <td>-18772.0</td>\n",
       "      <td>365243</td>\n",
       "      <td>1</td>\n",
       "      <td>0</td>\n",
       "      <td>0</td>\n",
       "      <td>0</td>\n",
       "      <td>NaN</td>\n",
       "      <td>2</td>\n",
       "      <td>1</td>\n",
       "    </tr>\n",
       "    <tr>\n",
       "      <th>1</th>\n",
       "      <td>5009744</td>\n",
       "      <td>F</td>\n",
       "      <td>Y</td>\n",
       "      <td>N</td>\n",
       "      <td>0</td>\n",
       "      <td>315000.0</td>\n",
       "      <td>Commercial associate</td>\n",
       "      <td>Higher education</td>\n",
       "      <td>Married</td>\n",
       "      <td>House / apartment</td>\n",
       "      <td>-13557.0</td>\n",
       "      <td>-586</td>\n",
       "      <td>1</td>\n",
       "      <td>1</td>\n",
       "      <td>1</td>\n",
       "      <td>0</td>\n",
       "      <td>NaN</td>\n",
       "      <td>2</td>\n",
       "      <td>1</td>\n",
       "    </tr>\n",
       "    <tr>\n",
       "      <th>2</th>\n",
       "      <td>5009746</td>\n",
       "      <td>F</td>\n",
       "      <td>Y</td>\n",
       "      <td>N</td>\n",
       "      <td>0</td>\n",
       "      <td>315000.0</td>\n",
       "      <td>Commercial associate</td>\n",
       "      <td>Higher education</td>\n",
       "      <td>Married</td>\n",
       "      <td>House / apartment</td>\n",
       "      <td>NaN</td>\n",
       "      <td>-586</td>\n",
       "      <td>1</td>\n",
       "      <td>1</td>\n",
       "      <td>1</td>\n",
       "      <td>0</td>\n",
       "      <td>NaN</td>\n",
       "      <td>2</td>\n",
       "      <td>1</td>\n",
       "    </tr>\n",
       "    <tr>\n",
       "      <th>3</th>\n",
       "      <td>5009749</td>\n",
       "      <td>F</td>\n",
       "      <td>Y</td>\n",
       "      <td>N</td>\n",
       "      <td>0</td>\n",
       "      <td>NaN</td>\n",
       "      <td>Commercial associate</td>\n",
       "      <td>Higher education</td>\n",
       "      <td>Married</td>\n",
       "      <td>House / apartment</td>\n",
       "      <td>-13557.0</td>\n",
       "      <td>-586</td>\n",
       "      <td>1</td>\n",
       "      <td>1</td>\n",
       "      <td>1</td>\n",
       "      <td>0</td>\n",
       "      <td>NaN</td>\n",
       "      <td>2</td>\n",
       "      <td>1</td>\n",
       "    </tr>\n",
       "    <tr>\n",
       "      <th>4</th>\n",
       "      <td>5009752</td>\n",
       "      <td>F</td>\n",
       "      <td>Y</td>\n",
       "      <td>N</td>\n",
       "      <td>0</td>\n",
       "      <td>315000.0</td>\n",
       "      <td>Commercial associate</td>\n",
       "      <td>Higher education</td>\n",
       "      <td>Married</td>\n",
       "      <td>House / apartment</td>\n",
       "      <td>-13557.0</td>\n",
       "      <td>-586</td>\n",
       "      <td>1</td>\n",
       "      <td>1</td>\n",
       "      <td>1</td>\n",
       "      <td>0</td>\n",
       "      <td>NaN</td>\n",
       "      <td>2</td>\n",
       "      <td>1</td>\n",
       "    </tr>\n",
       "  </tbody>\n",
       "</table>\n",
       "</div>"
      ],
      "text/plain": [
       "    Ind_ID GENDER Car_Owner Propert_Owner  CHILDREN  Annual_income   \n",
       "0  5008827      M         Y             Y         0       180000.0  \\\n",
       "1  5009744      F         Y             N         0       315000.0   \n",
       "2  5009746      F         Y             N         0       315000.0   \n",
       "3  5009749      F         Y             N         0            NaN   \n",
       "4  5009752      F         Y             N         0       315000.0   \n",
       "\n",
       "            Type_Income         EDUCATION Marital_status       Housing_type   \n",
       "0             Pensioner  Higher education        Married  House / apartment  \\\n",
       "1  Commercial associate  Higher education        Married  House / apartment   \n",
       "2  Commercial associate  Higher education        Married  House / apartment   \n",
       "3  Commercial associate  Higher education        Married  House / apartment   \n",
       "4  Commercial associate  Higher education        Married  House / apartment   \n",
       "\n",
       "   Birthday_count  Employed_days  Mobile_phone  Work_Phone  Phone  EMAIL_ID   \n",
       "0        -18772.0         365243             1           0      0         0  \\\n",
       "1        -13557.0           -586             1           1      1         0   \n",
       "2             NaN           -586             1           1      1         0   \n",
       "3        -13557.0           -586             1           1      1         0   \n",
       "4        -13557.0           -586             1           1      1         0   \n",
       "\n",
       "  Type_Occupation  Family_Members  label  \n",
       "0             NaN               2      1  \n",
       "1             NaN               2      1  \n",
       "2             NaN               2      1  \n",
       "3             NaN               2      1  \n",
       "4             NaN               2      1  "
      ]
     },
     "execution_count": 26,
     "metadata": {},
     "output_type": "execute_result"
    }
   ],
   "source": [
    "#merging the data\n",
    "\n",
    "data = df.merge(df_label, how = 'inner', on = 'Ind_ID')\n",
    "data.head()"
   ]
  },
  {
   "cell_type": "code",
   "execution_count": 27,
   "id": "8b30783a",
   "metadata": {},
   "outputs": [
    {
     "data": {
      "text/plain": [
       "(299, 19)"
      ]
     },
     "execution_count": 27,
     "metadata": {},
     "output_type": "execute_result"
    }
   ],
   "source": [
    "data.shape"
   ]
  },
  {
   "cell_type": "code",
   "execution_count": 28,
   "id": "097e7353",
   "metadata": {},
   "outputs": [
    {
     "data": {
      "text/plain": [
       "Index(['Ind_ID', 'GENDER', 'Car_Owner', 'Propert_Owner', 'CHILDREN',\n",
       "       'Annual_income', 'Type_Income', 'EDUCATION', 'Marital_status',\n",
       "       'Housing_type', 'Birthday_count', 'Employed_days', 'Mobile_phone',\n",
       "       'Work_Phone', 'Phone', 'EMAIL_ID', 'Type_Occupation', 'Family_Members',\n",
       "       'label'],\n",
       "      dtype='object')"
      ]
     },
     "execution_count": 28,
     "metadata": {},
     "output_type": "execute_result"
    }
   ],
   "source": [
    "#Preprocessing\n",
    "data.columns"
   ]
  },
  {
   "cell_type": "code",
   "execution_count": 29,
   "id": "3304b2a1",
   "metadata": {},
   "outputs": [
    {
     "name": "stdout",
     "output_type": "stream",
     "text": [
      "<class 'pandas.core.frame.DataFrame'>\n",
      "RangeIndex: 299 entries, 0 to 298\n",
      "Data columns (total 19 columns):\n",
      " #   Column           Non-Null Count  Dtype  \n",
      "---  ------           --------------  -----  \n",
      " 0   Ind_ID           299 non-null    int64  \n",
      " 1   GENDER           292 non-null    object \n",
      " 2   Car_Owner        299 non-null    object \n",
      " 3   Propert_Owner    299 non-null    object \n",
      " 4   CHILDREN         299 non-null    int64  \n",
      " 5   Annual_income    288 non-null    float64\n",
      " 6   Type_Income      299 non-null    object \n",
      " 7   EDUCATION        299 non-null    object \n",
      " 8   Marital_status   299 non-null    object \n",
      " 9   Housing_type     299 non-null    object \n",
      " 10  Birthday_count   296 non-null    float64\n",
      " 11  Employed_days    299 non-null    int64  \n",
      " 12  Mobile_phone     299 non-null    int64  \n",
      " 13  Work_Phone       299 non-null    int64  \n",
      " 14  Phone            299 non-null    int64  \n",
      " 15  EMAIL_ID         299 non-null    int64  \n",
      " 16  Type_Occupation  200 non-null    object \n",
      " 17  Family_Members   299 non-null    int64  \n",
      " 18  label            299 non-null    int64  \n",
      "dtypes: float64(2), int64(9), object(8)\n",
      "memory usage: 44.5+ KB\n"
     ]
    }
   ],
   "source": [
    "data.info()"
   ]
  },
  {
   "cell_type": "code",
   "execution_count": 30,
   "id": "f9a59655",
   "metadata": {},
   "outputs": [
    {
     "data": {
      "text/plain": [
       "0"
      ]
     },
     "execution_count": 30,
     "metadata": {},
     "output_type": "execute_result"
    }
   ],
   "source": [
    "# checking for duplicate values\n",
    "\n",
    "data.duplicated().sum()"
   ]
  },
  {
   "cell_type": "code",
   "execution_count": 31,
   "id": "d37a56fc",
   "metadata": {},
   "outputs": [
    {
     "data": {
      "text/plain": [
       "Ind_ID              0\n",
       "GENDER              7\n",
       "Car_Owner           0\n",
       "Propert_Owner       0\n",
       "CHILDREN            0\n",
       "Annual_income      11\n",
       "Type_Income         0\n",
       "EDUCATION           0\n",
       "Marital_status      0\n",
       "Housing_type        0\n",
       "Birthday_count      3\n",
       "Employed_days       0\n",
       "Mobile_phone        0\n",
       "Work_Phone          0\n",
       "Phone               0\n",
       "EMAIL_ID            0\n",
       "Type_Occupation    99\n",
       "Family_Members      0\n",
       "label               0\n",
       "dtype: int64"
      ]
     },
     "execution_count": 31,
     "metadata": {},
     "output_type": "execute_result"
    }
   ],
   "source": [
    "#checking null values\n",
    "data.isnull().sum()"
   ]
  },
  {
   "cell_type": "code",
   "execution_count": 32,
   "id": "814ec5b6",
   "metadata": {},
   "outputs": [],
   "source": [
    "# Creating new column by dividing the birthday_count with 365, by which we get age and employment in years\n",
    "\n",
    "data['Age'] = np.abs((data['Birthday_count'])/365)\n",
    "\n",
    "# Convert days to years, set positive values to 0\n",
    "data['Employment_years'] = np.where(\n",
    "    data['Employed_days'] > 0,\n",
    "    0,\n",
    "    np.abs((data['Employed_days'])/365)  # Convert negative days to positive years\n",
    ")"
   ]
  },
  {
   "cell_type": "code",
   "execution_count": 33,
   "id": "190cd95b",
   "metadata": {},
   "outputs": [
    {
     "data": {
      "text/plain": [
       "18"
      ]
     },
     "execution_count": 33,
     "metadata": {},
     "output_type": "execute_result"
    }
   ],
   "source": [
    "data['Type_Occupation'].nunique()"
   ]
  },
  {
   "cell_type": "code",
   "execution_count": 34,
   "id": "cbc001df",
   "metadata": {},
   "outputs": [
    {
     "data": {
      "text/plain": [
       "Type_Occupation\n",
       "Laborers                 45\n",
       "Core staff               37\n",
       "Sales staff              26\n",
       "Managers                 22\n",
       "Drivers                  14\n",
       "Security staff            9\n",
       "Medicine staff            9\n",
       "Accountants               8\n",
       "High skill tech staff     8\n",
       "Cleaning staff            5\n",
       "Cooking staff             5\n",
       "Low-skill Laborers        3\n",
       "IT staff                  2\n",
       "Private service staff     2\n",
       "Secretaries               2\n",
       "Waiters/barmen staff      1\n",
       "HR staff                  1\n",
       "Realty agents             1\n",
       "Name: count, dtype: int64"
      ]
     },
     "execution_count": 34,
     "metadata": {},
     "output_type": "execute_result"
    }
   ],
   "source": [
    "data['Type_Occupation'].value_counts()"
   ]
  },
  {
   "cell_type": "code",
   "execution_count": 35,
   "id": "3f72e771",
   "metadata": {},
   "outputs": [],
   "source": [
    "data.fillna({\n",
    "    'GENDER': data['GENDER'].mode()[0],\n",
    "    'Type_Occupation' : data['Type_Occupation'].mode()[0]\n",
    "}, inplace=True)\n"
   ]
  },
  {
   "cell_type": "code",
   "execution_count": 36,
   "id": "cf87541d",
   "metadata": {},
   "outputs": [
    {
     "data": {
      "text/plain": [
       "Type_Income\n",
       "Commercial associate    259397.560976\n",
       "Pensioner               164622.413793\n",
       "State servant           223500.000000\n",
       "Working                 189166.153846\n",
       "Name: Annual_income, dtype: float64"
      ]
     },
     "execution_count": 36,
     "metadata": {},
     "output_type": "execute_result"
    }
   ],
   "source": [
    "Mean_income_by_income_type = data.groupby(['Type_Income'])['Annual_income'].mean()\n",
    "Mean_income_by_income_type"
   ]
  },
  {
   "cell_type": "code",
   "execution_count": 37,
   "id": "babf80b2",
   "metadata": {},
   "outputs": [],
   "source": [
    "for income_type, mean_inc in Mean_income_by_income_type.items():\n",
    "    data.loc[(df['Type_Income'] == income_type) & (data['Annual_income'].isna()), 'Annual_income'] = mean_inc"
   ]
  },
  {
   "cell_type": "code",
   "execution_count": 38,
   "id": "22eca73c",
   "metadata": {},
   "outputs": [
    {
     "data": {
      "text/plain": [
       "Ind_ID              0\n",
       "GENDER              0\n",
       "Car_Owner           0\n",
       "Propert_Owner       0\n",
       "CHILDREN            0\n",
       "Annual_income       0\n",
       "Type_Income         0\n",
       "EDUCATION           0\n",
       "Marital_status      0\n",
       "Housing_type        0\n",
       "Birthday_count      3\n",
       "Employed_days       0\n",
       "Mobile_phone        0\n",
       "Work_Phone          0\n",
       "Phone               0\n",
       "EMAIL_ID            0\n",
       "Type_Occupation     0\n",
       "Family_Members      0\n",
       "label               0\n",
       "Age                 3\n",
       "Employment_years    0\n",
       "dtype: int64"
      ]
     },
     "execution_count": 38,
     "metadata": {},
     "output_type": "execute_result"
    }
   ],
   "source": [
    "data.isnull().sum()"
   ]
  },
  {
   "cell_type": "code",
   "execution_count": 39,
   "id": "bbaa9d6b",
   "metadata": {},
   "outputs": [
    {
     "data": {
      "text/plain": [
       "3"
      ]
     },
     "execution_count": 39,
     "metadata": {},
     "output_type": "execute_result"
    }
   ],
   "source": [
    "data[\"Age\"].isnull().sum()"
   ]
  },
  {
   "cell_type": "code",
   "execution_count": 40,
   "id": "6d9b3041",
   "metadata": {},
   "outputs": [
    {
     "data": {
      "text/plain": [
       "Type_Income\n",
       "Commercial associate    41.010024\n",
       "Pensioner               58.596227\n",
       "State servant           46.583105\n",
       "Working                 39.984060\n",
       "Name: Age, dtype: float64"
      ]
     },
     "execution_count": 40,
     "metadata": {},
     "output_type": "execute_result"
    }
   ],
   "source": [
    "mean_age_by_income_type = data.groupby(['Type_Income'])['Age'].mean()\n",
    "\n",
    "mean_age_by_income_type"
   ]
  },
  {
   "cell_type": "code",
   "execution_count": 41,
   "id": "267296de",
   "metadata": {},
   "outputs": [],
   "source": [
    "# Impute missing values in 'Age' column with the mean\n",
    "\n",
    "for income_type, mean_age in mean_age_by_income_type.items():\n",
    "    data.loc[(data['Type_Income'] == income_type) & (data['Age'].isna()), 'Age'] = mean_age"
   ]
  },
  {
   "cell_type": "code",
   "execution_count": 42,
   "id": "d2b72a5a",
   "metadata": {},
   "outputs": [
    {
     "data": {
      "text/plain": [
       "0"
      ]
     },
     "execution_count": 42,
     "metadata": {},
     "output_type": "execute_result"
    }
   ],
   "source": [
    "data[\"Age\"].isnull().sum()"
   ]
  },
  {
   "cell_type": "code",
   "execution_count": 43,
   "id": "711bf38a",
   "metadata": {},
   "outputs": [
    {
     "data": {
      "text/html": [
       "<div>\n",
       "<style scoped>\n",
       "    .dataframe tbody tr th:only-of-type {\n",
       "        vertical-align: middle;\n",
       "    }\n",
       "\n",
       "    .dataframe tbody tr th {\n",
       "        vertical-align: top;\n",
       "    }\n",
       "\n",
       "    .dataframe thead th {\n",
       "        text-align: right;\n",
       "    }\n",
       "</style>\n",
       "<table border=\"1\" class=\"dataframe\">\n",
       "  <thead>\n",
       "    <tr style=\"text-align: right;\">\n",
       "      <th></th>\n",
       "      <th>Ind_ID</th>\n",
       "      <th>GENDER</th>\n",
       "      <th>Car_Owner</th>\n",
       "      <th>Propert_Owner</th>\n",
       "      <th>CHILDREN</th>\n",
       "      <th>Annual_income</th>\n",
       "      <th>Type_Income</th>\n",
       "      <th>EDUCATION</th>\n",
       "      <th>Marital_status</th>\n",
       "      <th>Housing_type</th>\n",
       "      <th>...</th>\n",
       "      <th>Employed_days</th>\n",
       "      <th>Mobile_phone</th>\n",
       "      <th>Work_Phone</th>\n",
       "      <th>Phone</th>\n",
       "      <th>EMAIL_ID</th>\n",
       "      <th>Type_Occupation</th>\n",
       "      <th>Family_Members</th>\n",
       "      <th>label</th>\n",
       "      <th>Age</th>\n",
       "      <th>Employment_years</th>\n",
       "    </tr>\n",
       "  </thead>\n",
       "  <tbody>\n",
       "    <tr>\n",
       "      <th>0</th>\n",
       "      <td>5008827</td>\n",
       "      <td>M</td>\n",
       "      <td>Y</td>\n",
       "      <td>Y</td>\n",
       "      <td>0</td>\n",
       "      <td>180000.000000</td>\n",
       "      <td>Pensioner</td>\n",
       "      <td>Higher education</td>\n",
       "      <td>Married</td>\n",
       "      <td>House / apartment</td>\n",
       "      <td>...</td>\n",
       "      <td>365243</td>\n",
       "      <td>1</td>\n",
       "      <td>0</td>\n",
       "      <td>0</td>\n",
       "      <td>0</td>\n",
       "      <td>Laborers</td>\n",
       "      <td>2</td>\n",
       "      <td>1</td>\n",
       "      <td>51.430137</td>\n",
       "      <td>0.000000</td>\n",
       "    </tr>\n",
       "    <tr>\n",
       "      <th>1</th>\n",
       "      <td>5009744</td>\n",
       "      <td>F</td>\n",
       "      <td>Y</td>\n",
       "      <td>N</td>\n",
       "      <td>0</td>\n",
       "      <td>315000.000000</td>\n",
       "      <td>Commercial associate</td>\n",
       "      <td>Higher education</td>\n",
       "      <td>Married</td>\n",
       "      <td>House / apartment</td>\n",
       "      <td>...</td>\n",
       "      <td>-586</td>\n",
       "      <td>1</td>\n",
       "      <td>1</td>\n",
       "      <td>1</td>\n",
       "      <td>0</td>\n",
       "      <td>Laborers</td>\n",
       "      <td>2</td>\n",
       "      <td>1</td>\n",
       "      <td>37.142466</td>\n",
       "      <td>1.605479</td>\n",
       "    </tr>\n",
       "    <tr>\n",
       "      <th>2</th>\n",
       "      <td>5009746</td>\n",
       "      <td>F</td>\n",
       "      <td>Y</td>\n",
       "      <td>N</td>\n",
       "      <td>0</td>\n",
       "      <td>315000.000000</td>\n",
       "      <td>Commercial associate</td>\n",
       "      <td>Higher education</td>\n",
       "      <td>Married</td>\n",
       "      <td>House / apartment</td>\n",
       "      <td>...</td>\n",
       "      <td>-586</td>\n",
       "      <td>1</td>\n",
       "      <td>1</td>\n",
       "      <td>1</td>\n",
       "      <td>0</td>\n",
       "      <td>Laborers</td>\n",
       "      <td>2</td>\n",
       "      <td>1</td>\n",
       "      <td>41.010024</td>\n",
       "      <td>1.605479</td>\n",
       "    </tr>\n",
       "    <tr>\n",
       "      <th>3</th>\n",
       "      <td>5009749</td>\n",
       "      <td>F</td>\n",
       "      <td>Y</td>\n",
       "      <td>N</td>\n",
       "      <td>0</td>\n",
       "      <td>259397.560976</td>\n",
       "      <td>Commercial associate</td>\n",
       "      <td>Higher education</td>\n",
       "      <td>Married</td>\n",
       "      <td>House / apartment</td>\n",
       "      <td>...</td>\n",
       "      <td>-586</td>\n",
       "      <td>1</td>\n",
       "      <td>1</td>\n",
       "      <td>1</td>\n",
       "      <td>0</td>\n",
       "      <td>Laborers</td>\n",
       "      <td>2</td>\n",
       "      <td>1</td>\n",
       "      <td>37.142466</td>\n",
       "      <td>1.605479</td>\n",
       "    </tr>\n",
       "    <tr>\n",
       "      <th>4</th>\n",
       "      <td>5009752</td>\n",
       "      <td>F</td>\n",
       "      <td>Y</td>\n",
       "      <td>N</td>\n",
       "      <td>0</td>\n",
       "      <td>315000.000000</td>\n",
       "      <td>Commercial associate</td>\n",
       "      <td>Higher education</td>\n",
       "      <td>Married</td>\n",
       "      <td>House / apartment</td>\n",
       "      <td>...</td>\n",
       "      <td>-586</td>\n",
       "      <td>1</td>\n",
       "      <td>1</td>\n",
       "      <td>1</td>\n",
       "      <td>0</td>\n",
       "      <td>Laborers</td>\n",
       "      <td>2</td>\n",
       "      <td>1</td>\n",
       "      <td>37.142466</td>\n",
       "      <td>1.605479</td>\n",
       "    </tr>\n",
       "  </tbody>\n",
       "</table>\n",
       "<p>5 rows × 21 columns</p>\n",
       "</div>"
      ],
      "text/plain": [
       "    Ind_ID GENDER Car_Owner Propert_Owner  CHILDREN  Annual_income   \n",
       "0  5008827      M         Y             Y         0  180000.000000  \\\n",
       "1  5009744      F         Y             N         0  315000.000000   \n",
       "2  5009746      F         Y             N         0  315000.000000   \n",
       "3  5009749      F         Y             N         0  259397.560976   \n",
       "4  5009752      F         Y             N         0  315000.000000   \n",
       "\n",
       "            Type_Income         EDUCATION Marital_status       Housing_type   \n",
       "0             Pensioner  Higher education        Married  House / apartment  \\\n",
       "1  Commercial associate  Higher education        Married  House / apartment   \n",
       "2  Commercial associate  Higher education        Married  House / apartment   \n",
       "3  Commercial associate  Higher education        Married  House / apartment   \n",
       "4  Commercial associate  Higher education        Married  House / apartment   \n",
       "\n",
       "   ...  Employed_days  Mobile_phone  Work_Phone  Phone  EMAIL_ID   \n",
       "0  ...         365243             1           0      0         0  \\\n",
       "1  ...           -586             1           1      1         0   \n",
       "2  ...           -586             1           1      1         0   \n",
       "3  ...           -586             1           1      1         0   \n",
       "4  ...           -586             1           1      1         0   \n",
       "\n",
       "   Type_Occupation Family_Members  label        Age  Employment_years  \n",
       "0         Laborers              2      1  51.430137          0.000000  \n",
       "1         Laborers              2      1  37.142466          1.605479  \n",
       "2         Laborers              2      1  41.010024          1.605479  \n",
       "3         Laborers              2      1  37.142466          1.605479  \n",
       "4         Laborers              2      1  37.142466          1.605479  \n",
       "\n",
       "[5 rows x 21 columns]"
      ]
     },
     "execution_count": 43,
     "metadata": {},
     "output_type": "execute_result"
    }
   ],
   "source": [
    "data.head()"
   ]
  },
  {
   "cell_type": "code",
   "execution_count": 44,
   "id": "68eacd17",
   "metadata": {},
   "outputs": [
    {
     "data": {
      "text/html": [
       "<div>\n",
       "<style scoped>\n",
       "    .dataframe tbody tr th:only-of-type {\n",
       "        vertical-align: middle;\n",
       "    }\n",
       "\n",
       "    .dataframe tbody tr th {\n",
       "        vertical-align: top;\n",
       "    }\n",
       "\n",
       "    .dataframe thead th {\n",
       "        text-align: right;\n",
       "    }\n",
       "</style>\n",
       "<table border=\"1\" class=\"dataframe\">\n",
       "  <thead>\n",
       "    <tr style=\"text-align: right;\">\n",
       "      <th></th>\n",
       "      <th>Ind_ID</th>\n",
       "      <th>GENDER</th>\n",
       "      <th>Car_Owner</th>\n",
       "      <th>Propert_Owner</th>\n",
       "      <th>CHILDREN</th>\n",
       "      <th>Annual_income</th>\n",
       "      <th>Type_Income</th>\n",
       "      <th>EDUCATION</th>\n",
       "      <th>Marital_status</th>\n",
       "      <th>Housing_type</th>\n",
       "      <th>...</th>\n",
       "      <th>Employed_days</th>\n",
       "      <th>Mobile_phone</th>\n",
       "      <th>Work_Phone</th>\n",
       "      <th>Phone</th>\n",
       "      <th>EMAIL_ID</th>\n",
       "      <th>Type_Occupation</th>\n",
       "      <th>Family_Members</th>\n",
       "      <th>label</th>\n",
       "      <th>Age</th>\n",
       "      <th>Employment_years</th>\n",
       "    </tr>\n",
       "  </thead>\n",
       "  <tbody>\n",
       "    <tr>\n",
       "      <th>0</th>\n",
       "      <td>5008827</td>\n",
       "      <td>M</td>\n",
       "      <td>Y</td>\n",
       "      <td>Y</td>\n",
       "      <td>0</td>\n",
       "      <td>180000.000000</td>\n",
       "      <td>Pensioner</td>\n",
       "      <td>Higher education</td>\n",
       "      <td>Married</td>\n",
       "      <td>House / apartment</td>\n",
       "      <td>...</td>\n",
       "      <td>365243</td>\n",
       "      <td>1</td>\n",
       "      <td>0</td>\n",
       "      <td>0</td>\n",
       "      <td>0</td>\n",
       "      <td>Laborers</td>\n",
       "      <td>2</td>\n",
       "      <td>1</td>\n",
       "      <td>51.430137</td>\n",
       "      <td>0.000000</td>\n",
       "    </tr>\n",
       "    <tr>\n",
       "      <th>1</th>\n",
       "      <td>5009744</td>\n",
       "      <td>F</td>\n",
       "      <td>Y</td>\n",
       "      <td>N</td>\n",
       "      <td>0</td>\n",
       "      <td>315000.000000</td>\n",
       "      <td>Commercial associate</td>\n",
       "      <td>Higher education</td>\n",
       "      <td>Married</td>\n",
       "      <td>House / apartment</td>\n",
       "      <td>...</td>\n",
       "      <td>-586</td>\n",
       "      <td>1</td>\n",
       "      <td>1</td>\n",
       "      <td>1</td>\n",
       "      <td>0</td>\n",
       "      <td>Laborers</td>\n",
       "      <td>2</td>\n",
       "      <td>1</td>\n",
       "      <td>37.142466</td>\n",
       "      <td>1.605479</td>\n",
       "    </tr>\n",
       "    <tr>\n",
       "      <th>2</th>\n",
       "      <td>5009746</td>\n",
       "      <td>F</td>\n",
       "      <td>Y</td>\n",
       "      <td>N</td>\n",
       "      <td>0</td>\n",
       "      <td>315000.000000</td>\n",
       "      <td>Commercial associate</td>\n",
       "      <td>Higher education</td>\n",
       "      <td>Married</td>\n",
       "      <td>House / apartment</td>\n",
       "      <td>...</td>\n",
       "      <td>-586</td>\n",
       "      <td>1</td>\n",
       "      <td>1</td>\n",
       "      <td>1</td>\n",
       "      <td>0</td>\n",
       "      <td>Laborers</td>\n",
       "      <td>2</td>\n",
       "      <td>1</td>\n",
       "      <td>41.010024</td>\n",
       "      <td>1.605479</td>\n",
       "    </tr>\n",
       "    <tr>\n",
       "      <th>3</th>\n",
       "      <td>5009749</td>\n",
       "      <td>F</td>\n",
       "      <td>Y</td>\n",
       "      <td>N</td>\n",
       "      <td>0</td>\n",
       "      <td>259397.560976</td>\n",
       "      <td>Commercial associate</td>\n",
       "      <td>Higher education</td>\n",
       "      <td>Married</td>\n",
       "      <td>House / apartment</td>\n",
       "      <td>...</td>\n",
       "      <td>-586</td>\n",
       "      <td>1</td>\n",
       "      <td>1</td>\n",
       "      <td>1</td>\n",
       "      <td>0</td>\n",
       "      <td>Laborers</td>\n",
       "      <td>2</td>\n",
       "      <td>1</td>\n",
       "      <td>37.142466</td>\n",
       "      <td>1.605479</td>\n",
       "    </tr>\n",
       "    <tr>\n",
       "      <th>4</th>\n",
       "      <td>5009752</td>\n",
       "      <td>F</td>\n",
       "      <td>Y</td>\n",
       "      <td>N</td>\n",
       "      <td>0</td>\n",
       "      <td>315000.000000</td>\n",
       "      <td>Commercial associate</td>\n",
       "      <td>Higher education</td>\n",
       "      <td>Married</td>\n",
       "      <td>House / apartment</td>\n",
       "      <td>...</td>\n",
       "      <td>-586</td>\n",
       "      <td>1</td>\n",
       "      <td>1</td>\n",
       "      <td>1</td>\n",
       "      <td>0</td>\n",
       "      <td>Laborers</td>\n",
       "      <td>2</td>\n",
       "      <td>1</td>\n",
       "      <td>37.142466</td>\n",
       "      <td>1.605479</td>\n",
       "    </tr>\n",
       "  </tbody>\n",
       "</table>\n",
       "<p>5 rows × 21 columns</p>\n",
       "</div>"
      ],
      "text/plain": [
       "    Ind_ID GENDER Car_Owner Propert_Owner  CHILDREN  Annual_income   \n",
       "0  5008827      M         Y             Y         0  180000.000000  \\\n",
       "1  5009744      F         Y             N         0  315000.000000   \n",
       "2  5009746      F         Y             N         0  315000.000000   \n",
       "3  5009749      F         Y             N         0  259397.560976   \n",
       "4  5009752      F         Y             N         0  315000.000000   \n",
       "\n",
       "            Type_Income         EDUCATION Marital_status       Housing_type   \n",
       "0             Pensioner  Higher education        Married  House / apartment  \\\n",
       "1  Commercial associate  Higher education        Married  House / apartment   \n",
       "2  Commercial associate  Higher education        Married  House / apartment   \n",
       "3  Commercial associate  Higher education        Married  House / apartment   \n",
       "4  Commercial associate  Higher education        Married  House / apartment   \n",
       "\n",
       "   ...  Employed_days  Mobile_phone  Work_Phone  Phone  EMAIL_ID   \n",
       "0  ...         365243             1           0      0         0  \\\n",
       "1  ...           -586             1           1      1         0   \n",
       "2  ...           -586             1           1      1         0   \n",
       "3  ...           -586             1           1      1         0   \n",
       "4  ...           -586             1           1      1         0   \n",
       "\n",
       "   Type_Occupation Family_Members  label        Age  Employment_years  \n",
       "0         Laborers              2      1  51.430137          0.000000  \n",
       "1         Laborers              2      1  37.142466          1.605479  \n",
       "2         Laborers              2      1  41.010024          1.605479  \n",
       "3         Laborers              2      1  37.142466          1.605479  \n",
       "4         Laborers              2      1  37.142466          1.605479  \n",
       "\n",
       "[5 rows x 21 columns]"
      ]
     },
     "execution_count": 44,
     "metadata": {},
     "output_type": "execute_result"
    }
   ],
   "source": [
    "data.head()"
   ]
  },
  {
   "cell_type": "code",
   "execution_count": 45,
   "id": "1a6a7239",
   "metadata": {},
   "outputs": [
    {
     "data": {
      "text/plain": [
       "(299, 21)"
      ]
     },
     "execution_count": 45,
     "metadata": {},
     "output_type": "execute_result"
    }
   ],
   "source": [
    "data.shape"
   ]
  },
  {
   "cell_type": "code",
   "execution_count": null,
   "id": "28d76f68",
   "metadata": {},
   "outputs": [],
   "source": []
  },
  {
   "cell_type": "code",
   "execution_count": 46,
   "id": "b07c10bb",
   "metadata": {},
   "outputs": [
    {
     "data": {
      "text/html": [
       "<div>\n",
       "<style scoped>\n",
       "    .dataframe tbody tr th:only-of-type {\n",
       "        vertical-align: middle;\n",
       "    }\n",
       "\n",
       "    .dataframe tbody tr th {\n",
       "        vertical-align: top;\n",
       "    }\n",
       "\n",
       "    .dataframe thead th {\n",
       "        text-align: right;\n",
       "    }\n",
       "</style>\n",
       "<table border=\"1\" class=\"dataframe\">\n",
       "  <thead>\n",
       "    <tr style=\"text-align: right;\">\n",
       "      <th></th>\n",
       "      <th>Ind_ID</th>\n",
       "      <th>GENDER</th>\n",
       "      <th>Car_Owner</th>\n",
       "      <th>Propert_Owner</th>\n",
       "      <th>CHILDREN</th>\n",
       "      <th>Annual_income</th>\n",
       "      <th>Type_Income</th>\n",
       "      <th>EDUCATION</th>\n",
       "      <th>Marital_status</th>\n",
       "      <th>Housing_type</th>\n",
       "      <th>...</th>\n",
       "      <th>Employed_days</th>\n",
       "      <th>Mobile_phone</th>\n",
       "      <th>Work_Phone</th>\n",
       "      <th>Phone</th>\n",
       "      <th>EMAIL_ID</th>\n",
       "      <th>Type_Occupation</th>\n",
       "      <th>Family_Members</th>\n",
       "      <th>label</th>\n",
       "      <th>Age</th>\n",
       "      <th>Employment_years</th>\n",
       "    </tr>\n",
       "  </thead>\n",
       "  <tbody>\n",
       "    <tr>\n",
       "      <th>0</th>\n",
       "      <td>5008827</td>\n",
       "      <td>M</td>\n",
       "      <td>Y</td>\n",
       "      <td>Y</td>\n",
       "      <td>0</td>\n",
       "      <td>180000.000000</td>\n",
       "      <td>Pensioner</td>\n",
       "      <td>Higher education</td>\n",
       "      <td>Married</td>\n",
       "      <td>House / apartment</td>\n",
       "      <td>...</td>\n",
       "      <td>365243</td>\n",
       "      <td>1</td>\n",
       "      <td>0</td>\n",
       "      <td>0</td>\n",
       "      <td>0</td>\n",
       "      <td>Laborers</td>\n",
       "      <td>2</td>\n",
       "      <td>1</td>\n",
       "      <td>51.430137</td>\n",
       "      <td>0.000000</td>\n",
       "    </tr>\n",
       "    <tr>\n",
       "      <th>1</th>\n",
       "      <td>5009744</td>\n",
       "      <td>F</td>\n",
       "      <td>Y</td>\n",
       "      <td>N</td>\n",
       "      <td>0</td>\n",
       "      <td>315000.000000</td>\n",
       "      <td>Commercial associate</td>\n",
       "      <td>Higher education</td>\n",
       "      <td>Married</td>\n",
       "      <td>House / apartment</td>\n",
       "      <td>...</td>\n",
       "      <td>-586</td>\n",
       "      <td>1</td>\n",
       "      <td>1</td>\n",
       "      <td>1</td>\n",
       "      <td>0</td>\n",
       "      <td>Laborers</td>\n",
       "      <td>2</td>\n",
       "      <td>1</td>\n",
       "      <td>37.142466</td>\n",
       "      <td>1.605479</td>\n",
       "    </tr>\n",
       "    <tr>\n",
       "      <th>2</th>\n",
       "      <td>5009746</td>\n",
       "      <td>F</td>\n",
       "      <td>Y</td>\n",
       "      <td>N</td>\n",
       "      <td>0</td>\n",
       "      <td>315000.000000</td>\n",
       "      <td>Commercial associate</td>\n",
       "      <td>Higher education</td>\n",
       "      <td>Married</td>\n",
       "      <td>House / apartment</td>\n",
       "      <td>...</td>\n",
       "      <td>-586</td>\n",
       "      <td>1</td>\n",
       "      <td>1</td>\n",
       "      <td>1</td>\n",
       "      <td>0</td>\n",
       "      <td>Laborers</td>\n",
       "      <td>2</td>\n",
       "      <td>1</td>\n",
       "      <td>41.010024</td>\n",
       "      <td>1.605479</td>\n",
       "    </tr>\n",
       "    <tr>\n",
       "      <th>3</th>\n",
       "      <td>5009749</td>\n",
       "      <td>F</td>\n",
       "      <td>Y</td>\n",
       "      <td>N</td>\n",
       "      <td>0</td>\n",
       "      <td>259397.560976</td>\n",
       "      <td>Commercial associate</td>\n",
       "      <td>Higher education</td>\n",
       "      <td>Married</td>\n",
       "      <td>House / apartment</td>\n",
       "      <td>...</td>\n",
       "      <td>-586</td>\n",
       "      <td>1</td>\n",
       "      <td>1</td>\n",
       "      <td>1</td>\n",
       "      <td>0</td>\n",
       "      <td>Laborers</td>\n",
       "      <td>2</td>\n",
       "      <td>1</td>\n",
       "      <td>37.142466</td>\n",
       "      <td>1.605479</td>\n",
       "    </tr>\n",
       "    <tr>\n",
       "      <th>4</th>\n",
       "      <td>5009752</td>\n",
       "      <td>F</td>\n",
       "      <td>Y</td>\n",
       "      <td>N</td>\n",
       "      <td>0</td>\n",
       "      <td>315000.000000</td>\n",
       "      <td>Commercial associate</td>\n",
       "      <td>Higher education</td>\n",
       "      <td>Married</td>\n",
       "      <td>House / apartment</td>\n",
       "      <td>...</td>\n",
       "      <td>-586</td>\n",
       "      <td>1</td>\n",
       "      <td>1</td>\n",
       "      <td>1</td>\n",
       "      <td>0</td>\n",
       "      <td>Laborers</td>\n",
       "      <td>2</td>\n",
       "      <td>1</td>\n",
       "      <td>37.142466</td>\n",
       "      <td>1.605479</td>\n",
       "    </tr>\n",
       "  </tbody>\n",
       "</table>\n",
       "<p>5 rows × 21 columns</p>\n",
       "</div>"
      ],
      "text/plain": [
       "    Ind_ID GENDER Car_Owner Propert_Owner  CHILDREN  Annual_income   \n",
       "0  5008827      M         Y             Y         0  180000.000000  \\\n",
       "1  5009744      F         Y             N         0  315000.000000   \n",
       "2  5009746      F         Y             N         0  315000.000000   \n",
       "3  5009749      F         Y             N         0  259397.560976   \n",
       "4  5009752      F         Y             N         0  315000.000000   \n",
       "\n",
       "            Type_Income         EDUCATION Marital_status       Housing_type   \n",
       "0             Pensioner  Higher education        Married  House / apartment  \\\n",
       "1  Commercial associate  Higher education        Married  House / apartment   \n",
       "2  Commercial associate  Higher education        Married  House / apartment   \n",
       "3  Commercial associate  Higher education        Married  House / apartment   \n",
       "4  Commercial associate  Higher education        Married  House / apartment   \n",
       "\n",
       "   ...  Employed_days  Mobile_phone  Work_Phone  Phone  EMAIL_ID   \n",
       "0  ...         365243             1           0      0         0  \\\n",
       "1  ...           -586             1           1      1         0   \n",
       "2  ...           -586             1           1      1         0   \n",
       "3  ...           -586             1           1      1         0   \n",
       "4  ...           -586             1           1      1         0   \n",
       "\n",
       "   Type_Occupation Family_Members  label        Age  Employment_years  \n",
       "0         Laborers              2      1  51.430137          0.000000  \n",
       "1         Laborers              2      1  37.142466          1.605479  \n",
       "2         Laborers              2      1  41.010024          1.605479  \n",
       "3         Laborers              2      1  37.142466          1.605479  \n",
       "4         Laborers              2      1  37.142466          1.605479  \n",
       "\n",
       "[5 rows x 21 columns]"
      ]
     },
     "execution_count": 46,
     "metadata": {},
     "output_type": "execute_result"
    }
   ],
   "source": [
    "data.head()"
   ]
  },
  {
   "cell_type": "code",
   "execution_count": 47,
   "id": "08b43977",
   "metadata": {},
   "outputs": [
    {
     "data": {
      "text/plain": [
       "(299, 21)"
      ]
     },
     "execution_count": 47,
     "metadata": {},
     "output_type": "execute_result"
    }
   ],
   "source": [
    "data.shape"
   ]
  },
  {
   "cell_type": "code",
   "execution_count": 48,
   "id": "b41b404f",
   "metadata": {},
   "outputs": [
    {
     "data": {
      "text/plain": [
       "(299, 18)"
      ]
     },
     "execution_count": 48,
     "metadata": {},
     "output_type": "execute_result"
    }
   ],
   "source": [
    "#dropping column\n",
    "data = data.drop(['Ind_ID','Birthday_count', 'Employed_days'], axis=1)\n",
    "data.shape\n"
   ]
  },
  {
   "cell_type": "code",
   "execution_count": 49,
   "id": "6c4290d5",
   "metadata": {},
   "outputs": [
    {
     "data": {
      "image/png": "[encoded data removed]",
      "text/plain": [
       "<Figure size 1800x600 with 3 Axes>"
      ]
     },
     "metadata": {},
     "output_type": "display_data"
    }
   ],
   "source": [
    "#Handling outlier\n",
    "#visualizing features\n",
    "\n",
    "cols = ['GENDER', 'Car_Owner', 'Propert_Owner']\n",
    "\n",
    "fig, axes = plt.subplots(nrows=1, ncols=3, figsize=(18, 6))\n",
    "\n",
    "for i, col in enumerate(cols):\n",
    "    sns.countplot(data=data , x=col, ax=axes[i])\n",
    "    axes[i].set_title(f'Distribution of {col}' , fontsize=18 )\n",
    "    axes[i].set_ylabel('Count')\n",
    "    axes[i].tick_params(axis='x')\n",
    "    axes[i].grid(True)\n",
    "\n",
    "plt.tight_layout()\n",
    "plt.show()"
   ]
  },
  {
   "cell_type": "code",
   "execution_count": 50,
   "id": "af86624b",
   "metadata": {},
   "outputs": [
    {
     "data": {
      "image/png": "[encoded data removed]",
      "text/plain": [
       "<Figure size 1800x600 with 3 Axes>"
      ]
     },
     "metadata": {},
     "output_type": "display_data"
    }
   ],
   "source": [
    "cols = ['CHILDREN', 'Annual_income', 'Type_Income']\n",
    "\n",
    "fig, axes = plt.subplots(nrows=1, ncols=3, figsize=(18, 6))\n",
    "\n",
    "# Plot univariate distributions for each column\n",
    "for i, col in enumerate(cols):\n",
    "    if data[col].dtype in ['int64', 'float64']:\n",
    "        sns.histplot(data=data, x=col, ax=axes[i], bins=30, kde=True)\n",
    "    else:\n",
    "        sns.countplot(data=data, x=col, ax=axes[i], order=data[col].value_counts().index)\n",
    "\n",
    "    axes[i].set_title(f'Distribution of {col}', fontsize=18)\n",
    "    axes[i].set_ylabel('Count')\n",
    "    axes[i].tick_params(axis='x')\n",
    "    axes[i].grid(True)\n",
    "\n",
    "\n",
    "plt.tight_layout()\n",
    "plt.show()"
   ]
  },
  {
   "cell_type": "code",
   "execution_count": 51,
   "id": "a0580709",
   "metadata": {},
   "outputs": [
    {
     "data": {
      "text/plain": [
       "<Axes: xlabel='Annual_income'>"
      ]
     },
     "execution_count": 51,
     "metadata": {},
     "output_type": "execute_result"
    },
    {
     "data": {
      "image/png": "[encoded data removed]",
      "text/plain": [
       "<Figure size 640x480 with 1 Axes>"
      ]
     },
     "metadata": {},
     "output_type": "display_data"
    }
   ],
   "source": [
    "sns.boxplot(data=data, x='Annual_income')"
   ]
  },
  {
   "cell_type": "code",
   "execution_count": 52,
   "id": "26a24fbe",
   "metadata": {},
   "outputs": [
    {
     "data": {
      "image/png": "[encoded data removed]",
      "text/plain": [
       "<Figure size 1800x600 with 3 Axes>"
      ]
     },
     "metadata": {},
     "output_type": "display_data"
    }
   ],
   "source": [
    "cols = ['EDUCATION', 'Marital_status', 'Housing_type']\n",
    "\n",
    "fig, axes = plt.subplots(nrows=1, ncols=3, figsize=(18, 6))\n",
    "\n",
    "for i, col in enumerate(cols):\n",
    "    sns.countplot(data=data, x=col, ax=axes[i], order=df[col].value_counts().index)\n",
    "    axes[i].set_title(f'Distribution of {col}', fontsize = 17)\n",
    "    axes[i].set_ylabel('Count')\n",
    "    axes[i].tick_params(axis='x', rotation = 45)\n",
    "    axes[i].grid(True)\n",
    "\n",
    "plt.tight_layout()\n",
    "plt.show()"
   ]
  },
  {
   "cell_type": "code",
   "execution_count": 53,
   "id": "7a7f5f13",
   "metadata": {},
   "outputs": [
    {
     "data": {
      "image/png": "[encoded data removed]",
      "text/plain": [
       "<Figure size 1800x600 with 3 Axes>"
      ]
     },
     "metadata": {},
     "output_type": "display_data"
    }
   ],
   "source": [
    "cols = ['Work_Phone', 'Phone', 'EMAIL_ID']\n",
    "\n",
    "fig, axes = plt.subplots(nrows=1, ncols=3, figsize=(18, 6))\n",
    "\n",
    "# Plot univariate distributions for each column\n",
    "for i, col in enumerate(cols):\n",
    "    sns.countplot(data=data, x=col, ax=axes[i], order=data[col].value_counts().index)\n",
    "    axes[i].set_title(f'Distribution of {col}', fontsize = 17)\n",
    "    axes[i].set_ylabel('Count')\n",
    "    axes[i].tick_params(axis='x')\n",
    "    axes[i].grid(True)\n",
    "\n",
    "plt.tight_layout()\n",
    "plt.show()"
   ]
  },
  {
   "cell_type": "code",
   "execution_count": 54,
   "id": "8e7119db",
   "metadata": {},
   "outputs": [
    {
     "data": {
      "image/png": "[encoded data removed]",
      "text/plain": [
       "<Figure size 1800x600 with 3 Axes>"
      ]
     },
     "metadata": {},
     "output_type": "display_data"
    }
   ],
   "source": [
    "cols = ['Family_Members', 'Age', 'Employment_years']\n",
    "\n",
    "fig, axes = plt.subplots(nrows=1, ncols=3, figsize=(18, 6))\n",
    "\n",
    "# Plot univariate distributions for each column\n",
    "for i, col in enumerate(cols):\n",
    "    if data[col].dtype in ['int64', 'float64']:\n",
    "        sns.histplot(data=data, x=col, ax=axes[i], bins=30, kde=True , color ='orange')\n",
    "    else:\n",
    "        sns.countplot(data=data, x=col, ax=axes[i], order=df[col].value_counts().index , color ='green')\n",
    "\n",
    "    axes[i].set_title(f'Distribution of {col}', fontsize = 18)\n",
    "    axes[i].set_ylabel('Count')\n",
    "    axes[i].tick_params(axis='x')\n",
    "    axes[i].grid(True)\n",
    "\n",
    "plt.tight_layout()\n",
    "\n",
    "plt.show()"
   ]
  },
  {
   "cell_type": "code",
   "execution_count": 55,
   "id": "2f4262e3",
   "metadata": {},
   "outputs": [
    {
     "data": {
      "text/plain": [
       "<Axes: xlabel='Employment_years'>"
      ]
     },
     "execution_count": 55,
     "metadata": {},
     "output_type": "execute_result"
    },
    {
     "data": {
      "image/png": "[encoded data removed]",
      "text/plain": [
       "<Figure size 640x480 with 1 Axes>"
      ]
     },
     "metadata": {},
     "output_type": "display_data"
    }
   ],
   "source": [
    "sns.boxplot(data=data,x='Employment_years' )"
   ]
  },
  {
   "cell_type": "code",
   "execution_count": 56,
   "id": "13bb48a0",
   "metadata": {},
   "outputs": [
    {
     "data": {
      "image/png": "[encoded data removed]",
      "text/plain": [
       "<Figure size 500x400 with 1 Axes>"
      ]
     },
     "metadata": {},
     "output_type": "display_data"
    }
   ],
   "source": [
    "#Target Variable\n",
    "plt.figure(figsize =(5,4))\n",
    "sns.countplot(data=data, x='label')\n",
    "plt.title(\"Distribution of Output Variable\")\n",
    "plt.grid()\n",
    "plt.show()"
   ]
  },
  {
   "cell_type": "code",
   "execution_count": 57,
   "id": "10922e98",
   "metadata": {},
   "outputs": [
    {
     "data": {
      "text/plain": [
       "Index(['GENDER', 'Car_Owner', 'Propert_Owner', 'CHILDREN', 'Annual_income',\n",
       "       'Type_Income', 'EDUCATION', 'Marital_status', 'Housing_type',\n",
       "       'Mobile_phone', 'Work_Phone', 'Phone', 'EMAIL_ID', 'Type_Occupation',\n",
       "       'Family_Members', 'label', 'Age', 'Employment_years'],\n",
       "      dtype='object')"
      ]
     },
     "execution_count": 57,
     "metadata": {},
     "output_type": "execute_result"
    }
   ],
   "source": [
    "data.columns"
   ]
  },
  {
   "cell_type": "code",
   "execution_count": 58,
   "id": "e5acb51e",
   "metadata": {},
   "outputs": [
    {
     "data": {
      "image/png": "[encoded data removed]",
      "text/plain": [
       "<Figure size 640x480 with 2 Axes>"
      ]
     },
     "metadata": {},
     "output_type": "display_data"
    }
   ],
   "source": [
    "#Treating Outlier\n",
    "\n",
    "plt.subplot(1,2,1)\n",
    "sns.histplot(data=data, x='Annual_income',kde=True)\n",
    "plt.axvline(x=data['Annual_income'].mean(),color=\"red\",label=\"Mean\")\n",
    "plt.axvline(x=data['Annual_income'].median(),color=\"green\",label=\"Median\")\n",
    "plt.grid()\n",
    "plt.legend()\n",
    "\n",
    "plt.subplot(1,2,2)  # nrows=1, ncols=2\n",
    "sns.boxplot(data=data, x='Annual_income')\n",
    "\n",
    "plt.subplots_adjust(right=2.0)\n",
    "plt.grid()\n",
    "plt.show()"
   ]
  },
  {
   "cell_type": "code",
   "execution_count": 59,
   "id": "b54873e6",
   "metadata": {},
   "outputs": [],
   "source": [
    "#IQR method\n",
    "Q1 = np.percentile(data['Annual_income'],25)\n",
    "Q3 = np.percentile(data['Annual_income'],75)\n",
    "\n",
    "IQR=Q3-Q1"
   ]
  },
  {
   "cell_type": "code",
   "execution_count": 60,
   "id": "dbd56049",
   "metadata": {},
   "outputs": [
    {
     "data": {
      "text/plain": [
       "380250.0"
      ]
     },
     "execution_count": 60,
     "metadata": {},
     "output_type": "execute_result"
    }
   ],
   "source": [
    "# checking value of upper limit\n",
    "\n",
    "upper_limit = Q3+1.5*IQR\n",
    "\n",
    "upper_limit"
   ]
  },
  {
   "cell_type": "code",
   "execution_count": 61,
   "id": "afebc379",
   "metadata": {},
   "outputs": [],
   "source": [
    "# applying upperlimit value\n",
    "\n",
    "data = data[data['Annual_income'] < upper_limit]"
   ]
  },
  {
   "cell_type": "code",
   "execution_count": 62,
   "id": "2d35a99b",
   "metadata": {},
   "outputs": [
    {
     "data": {
      "image/png": "[encoded data removed]",
      "text/plain": [
       "<Figure size 640x480 with 2 Axes>"
      ]
     },
     "metadata": {},
     "output_type": "display_data"
    }
   ],
   "source": [
    "# Verifying by plotting the distribution and box plot after handling outlers\n",
    "\n",
    "plt.subplot(1,2,1)\n",
    "sns.histplot(data=data, x='Annual_income',kde=True)\n",
    "plt.axvline(x=data['Annual_income'].mean(),color=\"red\",label=\"Mean\")\n",
    "plt.axvline(x=data['Annual_income'].median(),color=\"green\",label=\"Median\")\n",
    "plt.grid()\n",
    "plt.legend()\n",
    "\n",
    "plt.subplot(1,2,2)  # nrows=1, ncols=2\n",
    "sns.boxplot(data=data, x='Annual_income')\n",
    "\n",
    "plt.subplots_adjust(right=2.0)\n",
    "plt.grid()\n",
    "plt.show()"
   ]
  },
  {
   "cell_type": "code",
   "execution_count": 63,
   "id": "216b7adb",
   "metadata": {},
   "outputs": [
    {
     "data": {
      "image/png": "[encoded data removed]",
      "text/plain": [
       "<Figure size 640x480 with 2 Axes>"
      ]
     },
     "metadata": {},
     "output_type": "display_data"
    }
   ],
   "source": [
    "plt.subplot(1,2,1)\n",
    "sns.histplot(data=data, x='Employment_years',kde=True)\n",
    "plt.axvline(x=data['Employment_years'].mean(),color=\"red\",label=\"Mean\")\n",
    "plt.axvline(x=data['Employment_years'].median(),color=\"green\",label=\"Median\")\n",
    "plt.legend()\n",
    "plt.grid()\n",
    "\n",
    "plt.subplot(1,2,2)\n",
    "sns.boxplot(data=data, x='Employment_years')\n",
    "\n",
    "plt.subplots_adjust(right=2.0)\n",
    "plt.grid()\n",
    "plt.show()\n"
   ]
  },
  {
   "cell_type": "code",
   "execution_count": 64,
   "id": "3333c056",
   "metadata": {},
   "outputs": [],
   "source": [
    "# using IQR method to handle the outliers\n",
    "\n",
    "Q1 = np.percentile(data['Employment_years'], 25 , method='midpoint')\n",
    "Q3 = np.percentile(data['Employment_years'], 75 ,method='midpoint')\n",
    "\n",
    "IQR = Q3-Q1"
   ]
  },
  {
   "cell_type": "code",
   "execution_count": 65,
   "id": "336ef90e",
   "metadata": {},
   "outputs": [
    {
     "data": {
      "text/plain": [
       "15.977397260273975"
      ]
     },
     "execution_count": 65,
     "metadata": {},
     "output_type": "execute_result"
    }
   ],
   "source": [
    "# checking for upper limit value\n",
    "\n",
    "upper_limit = Q3+1.5*IQR\n",
    "\n",
    "upper_limit"
   ]
  },
  {
   "cell_type": "code",
   "execution_count": 66,
   "id": "4b2a71e1",
   "metadata": {},
   "outputs": [],
   "source": [
    "# applying upperlimit value\n",
    "\n",
    "data = data[data['Employment_years'] < upper_limit]"
   ]
  },
  {
   "cell_type": "code",
   "execution_count": 67,
   "id": "f2deb766",
   "metadata": {},
   "outputs": [
    {
     "data": {
      "image/png": "[encoded data removed]",
      "text/plain": [
       "<Figure size 640x480 with 2 Axes>"
      ]
     },
     "metadata": {},
     "output_type": "display_data"
    }
   ],
   "source": [
    "# verifying the distribution and box plot after handling outlers\n",
    "\n",
    "plt.subplot(1,2,1)\n",
    "sns.histplot(data=data, x='Employment_years',kde=True)\n",
    "plt.axvline(x=data['Employment_years'].mean(),color=\"red\",label=\"Mean\")\n",
    "plt.axvline(x=data['Employment_years'].median(),color=\"green\",label=\"Median\")\n",
    "plt.legend()\n",
    "plt.grid()\n",
    "\n",
    "plt.subplot(1,2,2)\n",
    "sns.boxplot(data=data, x='Employment_years')\n",
    "\n",
    "plt.subplots_adjust(right=2.0)\n",
    "plt.grid()\n",
    "plt.show()"
   ]
  },
  {
   "cell_type": "code",
   "execution_count": 68,
   "id": "ec6cd8bc",
   "metadata": {},
   "outputs": [],
   "source": [
    "#Using Square root method to stabilize variance, making the data more normally distributed\n",
    "data['Employment_years'] = np.sqrt(data['Employment_years'])"
   ]
  },
  {
   "cell_type": "code",
   "execution_count": 69,
   "id": "f54a3d17",
   "metadata": {},
   "outputs": [
    {
     "data": {
      "image/png": "[encoded data removed]",
      "text/plain": [
       "<Figure size 640x480 with 2 Axes>"
      ]
     },
     "metadata": {},
     "output_type": "display_data"
    }
   ],
   "source": [
    "# verifying the distribution and box plot after handling outlers\n",
    "\n",
    "plt.subplot(1,2,1)\n",
    "sns.histplot(data=data, x='Employment_years',kde=True)\n",
    "plt.axvline(x=data['Employment_years'].mean(),color=\"red\",label=\"Mean\")\n",
    "plt.axvline(x=data['Employment_years'].median(),color=\"green\",label=\"Median\")\n",
    "plt.legend()\n",
    "plt.grid()\n",
    "\n",
    "plt.subplot(1,2,2)\n",
    "sns.boxplot(data=data, x='Employment_years')\n",
    "\n",
    "plt.subplots_adjust(right=2.0)\n",
    "plt.grid()\n",
    "plt.show()"
   ]
  },
  {
   "cell_type": "code",
   "execution_count": 70,
   "id": "346539c7",
   "metadata": {},
   "outputs": [
    {
     "data": {
      "image/png": "[encoded data removed]",
      "text/plain": [
       "<Figure size 500x400 with 1 Axes>"
      ]
     },
     "metadata": {},
     "output_type": "display_data"
    }
   ],
   "source": [
    "plt.figure(figsize =(5,4))\n",
    "\n",
    "sns.boxplot(data=data , x='Family_Members')\n",
    "\n",
    "plt.grid()\n",
    "plt.show()"
   ]
  },
  {
   "cell_type": "code",
   "execution_count": 71,
   "id": "9fe5a014",
   "metadata": {},
   "outputs": [
    {
     "data": {
      "text/plain": [
       "(252, 18)"
      ]
     },
     "execution_count": 71,
     "metadata": {},
     "output_type": "execute_result"
    }
   ],
   "source": [
    "data.shape"
   ]
  },
  {
   "cell_type": "code",
   "execution_count": 72,
   "id": "9857dcaf",
   "metadata": {},
   "outputs": [
    {
     "data": {
      "text/html": [
       "<div>\n",
       "<style scoped>\n",
       "    .dataframe tbody tr th:only-of-type {\n",
       "        vertical-align: middle;\n",
       "    }\n",
       "\n",
       "    .dataframe tbody tr th {\n",
       "        vertical-align: top;\n",
       "    }\n",
       "\n",
       "    .dataframe thead th {\n",
       "        text-align: right;\n",
       "    }\n",
       "</style>\n",
       "<table border=\"1\" class=\"dataframe\">\n",
       "  <thead>\n",
       "    <tr style=\"text-align: right;\">\n",
       "      <th></th>\n",
       "      <th>GENDER</th>\n",
       "      <th>Car_Owner</th>\n",
       "      <th>Propert_Owner</th>\n",
       "      <th>CHILDREN</th>\n",
       "      <th>Annual_income</th>\n",
       "      <th>Type_Income</th>\n",
       "      <th>EDUCATION</th>\n",
       "      <th>Marital_status</th>\n",
       "      <th>Housing_type</th>\n",
       "      <th>Mobile_phone</th>\n",
       "      <th>Work_Phone</th>\n",
       "      <th>Phone</th>\n",
       "      <th>EMAIL_ID</th>\n",
       "      <th>Type_Occupation</th>\n",
       "      <th>Family_Members</th>\n",
       "      <th>label</th>\n",
       "      <th>Age</th>\n",
       "      <th>Employment_years</th>\n",
       "    </tr>\n",
       "  </thead>\n",
       "  <tbody>\n",
       "    <tr>\n",
       "      <th>0</th>\n",
       "      <td>M</td>\n",
       "      <td>Y</td>\n",
       "      <td>Y</td>\n",
       "      <td>0</td>\n",
       "      <td>180000.000000</td>\n",
       "      <td>Pensioner</td>\n",
       "      <td>Higher education</td>\n",
       "      <td>Married</td>\n",
       "      <td>House / apartment</td>\n",
       "      <td>1</td>\n",
       "      <td>0</td>\n",
       "      <td>0</td>\n",
       "      <td>0</td>\n",
       "      <td>Laborers</td>\n",
       "      <td>2</td>\n",
       "      <td>1</td>\n",
       "      <td>51.430137</td>\n",
       "      <td>0.000000</td>\n",
       "    </tr>\n",
       "    <tr>\n",
       "      <th>1</th>\n",
       "      <td>F</td>\n",
       "      <td>Y</td>\n",
       "      <td>N</td>\n",
       "      <td>0</td>\n",
       "      <td>315000.000000</td>\n",
       "      <td>Commercial associate</td>\n",
       "      <td>Higher education</td>\n",
       "      <td>Married</td>\n",
       "      <td>House / apartment</td>\n",
       "      <td>1</td>\n",
       "      <td>1</td>\n",
       "      <td>1</td>\n",
       "      <td>0</td>\n",
       "      <td>Laborers</td>\n",
       "      <td>2</td>\n",
       "      <td>1</td>\n",
       "      <td>37.142466</td>\n",
       "      <td>1.267075</td>\n",
       "    </tr>\n",
       "    <tr>\n",
       "      <th>2</th>\n",
       "      <td>F</td>\n",
       "      <td>Y</td>\n",
       "      <td>N</td>\n",
       "      <td>0</td>\n",
       "      <td>315000.000000</td>\n",
       "      <td>Commercial associate</td>\n",
       "      <td>Higher education</td>\n",
       "      <td>Married</td>\n",
       "      <td>House / apartment</td>\n",
       "      <td>1</td>\n",
       "      <td>1</td>\n",
       "      <td>1</td>\n",
       "      <td>0</td>\n",
       "      <td>Laborers</td>\n",
       "      <td>2</td>\n",
       "      <td>1</td>\n",
       "      <td>41.010024</td>\n",
       "      <td>1.267075</td>\n",
       "    </tr>\n",
       "    <tr>\n",
       "      <th>3</th>\n",
       "      <td>F</td>\n",
       "      <td>Y</td>\n",
       "      <td>N</td>\n",
       "      <td>0</td>\n",
       "      <td>259397.560976</td>\n",
       "      <td>Commercial associate</td>\n",
       "      <td>Higher education</td>\n",
       "      <td>Married</td>\n",
       "      <td>House / apartment</td>\n",
       "      <td>1</td>\n",
       "      <td>1</td>\n",
       "      <td>1</td>\n",
       "      <td>0</td>\n",
       "      <td>Laborers</td>\n",
       "      <td>2</td>\n",
       "      <td>1</td>\n",
       "      <td>37.142466</td>\n",
       "      <td>1.267075</td>\n",
       "    </tr>\n",
       "    <tr>\n",
       "      <th>4</th>\n",
       "      <td>F</td>\n",
       "      <td>Y</td>\n",
       "      <td>N</td>\n",
       "      <td>0</td>\n",
       "      <td>315000.000000</td>\n",
       "      <td>Commercial associate</td>\n",
       "      <td>Higher education</td>\n",
       "      <td>Married</td>\n",
       "      <td>House / apartment</td>\n",
       "      <td>1</td>\n",
       "      <td>1</td>\n",
       "      <td>1</td>\n",
       "      <td>0</td>\n",
       "      <td>Laborers</td>\n",
       "      <td>2</td>\n",
       "      <td>1</td>\n",
       "      <td>37.142466</td>\n",
       "      <td>1.267075</td>\n",
       "    </tr>\n",
       "  </tbody>\n",
       "</table>\n",
       "</div>"
      ],
      "text/plain": [
       "  GENDER Car_Owner Propert_Owner  CHILDREN  Annual_income   \n",
       "0      M         Y             Y         0  180000.000000  \\\n",
       "1      F         Y             N         0  315000.000000   \n",
       "2      F         Y             N         0  315000.000000   \n",
       "3      F         Y             N         0  259397.560976   \n",
       "4      F         Y             N         0  315000.000000   \n",
       "\n",
       "            Type_Income         EDUCATION Marital_status       Housing_type   \n",
       "0             Pensioner  Higher education        Married  House / apartment  \\\n",
       "1  Commercial associate  Higher education        Married  House / apartment   \n",
       "2  Commercial associate  Higher education        Married  House / apartment   \n",
       "3  Commercial associate  Higher education        Married  House / apartment   \n",
       "4  Commercial associate  Higher education        Married  House / apartment   \n",
       "\n",
       "   Mobile_phone  Work_Phone  Phone  EMAIL_ID Type_Occupation  Family_Members   \n",
       "0             1           0      0         0        Laborers               2  \\\n",
       "1             1           1      1         0        Laborers               2   \n",
       "2             1           1      1         0        Laborers               2   \n",
       "3             1           1      1         0        Laborers               2   \n",
       "4             1           1      1         0        Laborers               2   \n",
       "\n",
       "   label        Age  Employment_years  \n",
       "0      1  51.430137          0.000000  \n",
       "1      1  37.142466          1.267075  \n",
       "2      1  41.010024          1.267075  \n",
       "3      1  37.142466          1.267075  \n",
       "4      1  37.142466          1.267075  "
      ]
     },
     "execution_count": 72,
     "metadata": {},
     "output_type": "execute_result"
    }
   ],
   "source": [
    "data.head()"
   ]
  },
  {
   "cell_type": "code",
   "execution_count": 73,
   "id": "d98e9ad4",
   "metadata": {},
   "outputs": [],
   "source": [
    "# Expoting to CSV file\n",
    "\n",
    "data.to_csv('cleaned_data.csv')"
   ]
  },
  {
   "cell_type": "code",
   "execution_count": 74,
   "id": "234c3026",
   "metadata": {},
   "outputs": [],
   "source": [
    "#Dropping the columns\n",
    "\n",
    "#Children : Children and family_members are corelated to each other, so dropping.\n",
    "\n",
    "#Mobile_phone : No variation in data, contains single category value only.\n",
    "data = data.drop(columns=['CHILDREN','Mobile_phone'])"
   ]
  },
  {
   "cell_type": "code",
   "execution_count": 75,
   "id": "13662aab",
   "metadata": {},
   "outputs": [
    {
     "data": {
      "text/plain": [
       "(252, 16)"
      ]
     },
     "execution_count": 75,
     "metadata": {},
     "output_type": "execute_result"
    }
   ],
   "source": [
    "data.shape"
   ]
  },
  {
   "cell_type": "code",
   "execution_count": 76,
   "id": "76624804",
   "metadata": {},
   "outputs": [],
   "source": [
    "#Encoding categorical variable\n",
    "#Binary encoding\n",
    "# for gender column\n",
    "data['GENDER'] = data['GENDER'].map({'M':1,'F':0})\n",
    "\n",
    "# for Car_Owner column\n",
    "data['Car_Owner'] = data['Car_Owner'].map({'Y':1,'N':0})\n",
    "\n",
    "# for Property_owner column\n",
    "data['Propert_Owner'] = data['Propert_Owner'].map({'Y':1,'N':0})"
   ]
  },
  {
   "cell_type": "code",
   "execution_count": 77,
   "id": "069ee323",
   "metadata": {},
   "outputs": [
    {
     "data": {
      "text/html": [
       "<div>\n",
       "<style scoped>\n",
       "    .dataframe tbody tr th:only-of-type {\n",
       "        vertical-align: middle;\n",
       "    }\n",
       "\n",
       "    .dataframe tbody tr th {\n",
       "        vertical-align: top;\n",
       "    }\n",
       "\n",
       "    .dataframe thead th {\n",
       "        text-align: right;\n",
       "    }\n",
       "</style>\n",
       "<table border=\"1\" class=\"dataframe\">\n",
       "  <thead>\n",
       "    <tr style=\"text-align: right;\">\n",
       "      <th></th>\n",
       "      <th>GENDER</th>\n",
       "      <th>Car_Owner</th>\n",
       "      <th>Propert_Owner</th>\n",
       "      <th>Annual_income</th>\n",
       "      <th>Type_Income</th>\n",
       "      <th>EDUCATION</th>\n",
       "      <th>Marital_status</th>\n",
       "      <th>Housing_type</th>\n",
       "      <th>Work_Phone</th>\n",
       "      <th>Phone</th>\n",
       "      <th>EMAIL_ID</th>\n",
       "      <th>Type_Occupation</th>\n",
       "      <th>Family_Members</th>\n",
       "      <th>label</th>\n",
       "      <th>Age</th>\n",
       "      <th>Employment_years</th>\n",
       "    </tr>\n",
       "  </thead>\n",
       "  <tbody>\n",
       "    <tr>\n",
       "      <th>0</th>\n",
       "      <td>1</td>\n",
       "      <td>1</td>\n",
       "      <td>1</td>\n",
       "      <td>180000.000000</td>\n",
       "      <td>Pensioner</td>\n",
       "      <td>Higher education</td>\n",
       "      <td>Married</td>\n",
       "      <td>House / apartment</td>\n",
       "      <td>0</td>\n",
       "      <td>0</td>\n",
       "      <td>0</td>\n",
       "      <td>Laborers</td>\n",
       "      <td>2</td>\n",
       "      <td>1</td>\n",
       "      <td>51.430137</td>\n",
       "      <td>0.000000</td>\n",
       "    </tr>\n",
       "    <tr>\n",
       "      <th>1</th>\n",
       "      <td>0</td>\n",
       "      <td>1</td>\n",
       "      <td>0</td>\n",
       "      <td>315000.000000</td>\n",
       "      <td>Commercial associate</td>\n",
       "      <td>Higher education</td>\n",
       "      <td>Married</td>\n",
       "      <td>House / apartment</td>\n",
       "      <td>1</td>\n",
       "      <td>1</td>\n",
       "      <td>0</td>\n",
       "      <td>Laborers</td>\n",
       "      <td>2</td>\n",
       "      <td>1</td>\n",
       "      <td>37.142466</td>\n",
       "      <td>1.267075</td>\n",
       "    </tr>\n",
       "    <tr>\n",
       "      <th>2</th>\n",
       "      <td>0</td>\n",
       "      <td>1</td>\n",
       "      <td>0</td>\n",
       "      <td>315000.000000</td>\n",
       "      <td>Commercial associate</td>\n",
       "      <td>Higher education</td>\n",
       "      <td>Married</td>\n",
       "      <td>House / apartment</td>\n",
       "      <td>1</td>\n",
       "      <td>1</td>\n",
       "      <td>0</td>\n",
       "      <td>Laborers</td>\n",
       "      <td>2</td>\n",
       "      <td>1</td>\n",
       "      <td>41.010024</td>\n",
       "      <td>1.267075</td>\n",
       "    </tr>\n",
       "    <tr>\n",
       "      <th>3</th>\n",
       "      <td>0</td>\n",
       "      <td>1</td>\n",
       "      <td>0</td>\n",
       "      <td>259397.560976</td>\n",
       "      <td>Commercial associate</td>\n",
       "      <td>Higher education</td>\n",
       "      <td>Married</td>\n",
       "      <td>House / apartment</td>\n",
       "      <td>1</td>\n",
       "      <td>1</td>\n",
       "      <td>0</td>\n",
       "      <td>Laborers</td>\n",
       "      <td>2</td>\n",
       "      <td>1</td>\n",
       "      <td>37.142466</td>\n",
       "      <td>1.267075</td>\n",
       "    </tr>\n",
       "    <tr>\n",
       "      <th>4</th>\n",
       "      <td>0</td>\n",
       "      <td>1</td>\n",
       "      <td>0</td>\n",
       "      <td>315000.000000</td>\n",
       "      <td>Commercial associate</td>\n",
       "      <td>Higher education</td>\n",
       "      <td>Married</td>\n",
       "      <td>House / apartment</td>\n",
       "      <td>1</td>\n",
       "      <td>1</td>\n",
       "      <td>0</td>\n",
       "      <td>Laborers</td>\n",
       "      <td>2</td>\n",
       "      <td>1</td>\n",
       "      <td>37.142466</td>\n",
       "      <td>1.267075</td>\n",
       "    </tr>\n",
       "  </tbody>\n",
       "</table>\n",
       "</div>"
      ],
      "text/plain": [
       "   GENDER  Car_Owner  Propert_Owner  Annual_income           Type_Income   \n",
       "0       1          1              1  180000.000000             Pensioner  \\\n",
       "1       0          1              0  315000.000000  Commercial associate   \n",
       "2       0          1              0  315000.000000  Commercial associate   \n",
       "3       0          1              0  259397.560976  Commercial associate   \n",
       "4       0          1              0  315000.000000  Commercial associate   \n",
       "\n",
       "          EDUCATION Marital_status       Housing_type  Work_Phone  Phone   \n",
       "0  Higher education        Married  House / apartment           0      0  \\\n",
       "1  Higher education        Married  House / apartment           1      1   \n",
       "2  Higher education        Married  House / apartment           1      1   \n",
       "3  Higher education        Married  House / apartment           1      1   \n",
       "4  Higher education        Married  House / apartment           1      1   \n",
       "\n",
       "   EMAIL_ID Type_Occupation  Family_Members  label        Age   \n",
       "0         0        Laborers               2      1  51.430137  \\\n",
       "1         0        Laborers               2      1  37.142466   \n",
       "2         0        Laborers               2      1  41.010024   \n",
       "3         0        Laborers               2      1  37.142466   \n",
       "4         0        Laborers               2      1  37.142466   \n",
       "\n",
       "   Employment_years  \n",
       "0          0.000000  \n",
       "1          1.267075  \n",
       "2          1.267075  \n",
       "3          1.267075  \n",
       "4          1.267075  "
      ]
     },
     "execution_count": 77,
     "metadata": {},
     "output_type": "execute_result"
    }
   ],
   "source": [
    "data.head()"
   ]
  },
  {
   "cell_type": "code",
   "execution_count": 78,
   "id": "0f6ef568",
   "metadata": {},
   "outputs": [
    {
     "data": {
      "text/plain": [
       "EDUCATION\n",
       "Secondary / secondary special    164\n",
       "Higher education                  68\n",
       "Lower secondary                   10\n",
       "Incomplete higher                  9\n",
       "Academic degree                    1\n",
       "Name: count, dtype: int64"
      ]
     },
     "execution_count": 78,
     "metadata": {},
     "output_type": "execute_result"
    }
   ],
   "source": [
    "#Ordinal encoding for education col\n",
    "data['EDUCATION'].value_counts()"
   ]
  },
  {
   "cell_type": "code",
   "execution_count": 79,
   "id": "7a886bae",
   "metadata": {},
   "outputs": [],
   "source": [
    "# importing ordinal encoder\n",
    "from sklearn.preprocessing import OrdinalEncoder\n",
    "\n",
    "# values to ordinal\n",
    "cols_order = ['Lower secondary','Secondary / secondary special','Incomplete higher','Higher education', 'Academic degree']\n",
    "\n",
    "x = OrdinalEncoder(categories=[cols_order])\n",
    "\n",
    "data['EDUCATION'] = x.fit_transform(data[['EDUCATION']])"
   ]
  },
  {
   "cell_type": "code",
   "execution_count": 80,
   "id": "40ecd95f",
   "metadata": {},
   "outputs": [
    {
     "data": {
      "text/html": [
       "<div>\n",
       "<style scoped>\n",
       "    .dataframe tbody tr th:only-of-type {\n",
       "        vertical-align: middle;\n",
       "    }\n",
       "\n",
       "    .dataframe tbody tr th {\n",
       "        vertical-align: top;\n",
       "    }\n",
       "\n",
       "    .dataframe thead th {\n",
       "        text-align: right;\n",
       "    }\n",
       "</style>\n",
       "<table border=\"1\" class=\"dataframe\">\n",
       "  <thead>\n",
       "    <tr style=\"text-align: right;\">\n",
       "      <th></th>\n",
       "      <th>GENDER</th>\n",
       "      <th>Car_Owner</th>\n",
       "      <th>Propert_Owner</th>\n",
       "      <th>Annual_income</th>\n",
       "      <th>Type_Income</th>\n",
       "      <th>EDUCATION</th>\n",
       "      <th>Marital_status</th>\n",
       "      <th>Housing_type</th>\n",
       "      <th>Work_Phone</th>\n",
       "      <th>Phone</th>\n",
       "      <th>EMAIL_ID</th>\n",
       "      <th>Type_Occupation</th>\n",
       "      <th>Family_Members</th>\n",
       "      <th>label</th>\n",
       "      <th>Age</th>\n",
       "      <th>Employment_years</th>\n",
       "    </tr>\n",
       "  </thead>\n",
       "  <tbody>\n",
       "    <tr>\n",
       "      <th>0</th>\n",
       "      <td>1</td>\n",
       "      <td>1</td>\n",
       "      <td>1</td>\n",
       "      <td>180000.000000</td>\n",
       "      <td>Pensioner</td>\n",
       "      <td>3.0</td>\n",
       "      <td>Married</td>\n",
       "      <td>House / apartment</td>\n",
       "      <td>0</td>\n",
       "      <td>0</td>\n",
       "      <td>0</td>\n",
       "      <td>Laborers</td>\n",
       "      <td>2</td>\n",
       "      <td>1</td>\n",
       "      <td>51.430137</td>\n",
       "      <td>0.000000</td>\n",
       "    </tr>\n",
       "    <tr>\n",
       "      <th>1</th>\n",
       "      <td>0</td>\n",
       "      <td>1</td>\n",
       "      <td>0</td>\n",
       "      <td>315000.000000</td>\n",
       "      <td>Commercial associate</td>\n",
       "      <td>3.0</td>\n",
       "      <td>Married</td>\n",
       "      <td>House / apartment</td>\n",
       "      <td>1</td>\n",
       "      <td>1</td>\n",
       "      <td>0</td>\n",
       "      <td>Laborers</td>\n",
       "      <td>2</td>\n",
       "      <td>1</td>\n",
       "      <td>37.142466</td>\n",
       "      <td>1.267075</td>\n",
       "    </tr>\n",
       "    <tr>\n",
       "      <th>2</th>\n",
       "      <td>0</td>\n",
       "      <td>1</td>\n",
       "      <td>0</td>\n",
       "      <td>315000.000000</td>\n",
       "      <td>Commercial associate</td>\n",
       "      <td>3.0</td>\n",
       "      <td>Married</td>\n",
       "      <td>House / apartment</td>\n",
       "      <td>1</td>\n",
       "      <td>1</td>\n",
       "      <td>0</td>\n",
       "      <td>Laborers</td>\n",
       "      <td>2</td>\n",
       "      <td>1</td>\n",
       "      <td>41.010024</td>\n",
       "      <td>1.267075</td>\n",
       "    </tr>\n",
       "    <tr>\n",
       "      <th>3</th>\n",
       "      <td>0</td>\n",
       "      <td>1</td>\n",
       "      <td>0</td>\n",
       "      <td>259397.560976</td>\n",
       "      <td>Commercial associate</td>\n",
       "      <td>3.0</td>\n",
       "      <td>Married</td>\n",
       "      <td>House / apartment</td>\n",
       "      <td>1</td>\n",
       "      <td>1</td>\n",
       "      <td>0</td>\n",
       "      <td>Laborers</td>\n",
       "      <td>2</td>\n",
       "      <td>1</td>\n",
       "      <td>37.142466</td>\n",
       "      <td>1.267075</td>\n",
       "    </tr>\n",
       "    <tr>\n",
       "      <th>4</th>\n",
       "      <td>0</td>\n",
       "      <td>1</td>\n",
       "      <td>0</td>\n",
       "      <td>315000.000000</td>\n",
       "      <td>Commercial associate</td>\n",
       "      <td>3.0</td>\n",
       "      <td>Married</td>\n",
       "      <td>House / apartment</td>\n",
       "      <td>1</td>\n",
       "      <td>1</td>\n",
       "      <td>0</td>\n",
       "      <td>Laborers</td>\n",
       "      <td>2</td>\n",
       "      <td>1</td>\n",
       "      <td>37.142466</td>\n",
       "      <td>1.267075</td>\n",
       "    </tr>\n",
       "  </tbody>\n",
       "</table>\n",
       "</div>"
      ],
      "text/plain": [
       "   GENDER  Car_Owner  Propert_Owner  Annual_income           Type_Income   \n",
       "0       1          1              1  180000.000000             Pensioner  \\\n",
       "1       0          1              0  315000.000000  Commercial associate   \n",
       "2       0          1              0  315000.000000  Commercial associate   \n",
       "3       0          1              0  259397.560976  Commercial associate   \n",
       "4       0          1              0  315000.000000  Commercial associate   \n",
       "\n",
       "   EDUCATION Marital_status       Housing_type  Work_Phone  Phone  EMAIL_ID   \n",
       "0        3.0        Married  House / apartment           0      0         0  \\\n",
       "1        3.0        Married  House / apartment           1      1         0   \n",
       "2        3.0        Married  House / apartment           1      1         0   \n",
       "3        3.0        Married  House / apartment           1      1         0   \n",
       "4        3.0        Married  House / apartment           1      1         0   \n",
       "\n",
       "  Type_Occupation  Family_Members  label        Age  Employment_years  \n",
       "0        Laborers               2      1  51.430137          0.000000  \n",
       "1        Laborers               2      1  37.142466          1.267075  \n",
       "2        Laborers               2      1  41.010024          1.267075  \n",
       "3        Laborers               2      1  37.142466          1.267075  \n",
       "4        Laborers               2      1  37.142466          1.267075  "
      ]
     },
     "execution_count": 80,
     "metadata": {},
     "output_type": "execute_result"
    }
   ],
   "source": [
    "data.head()"
   ]
  },
  {
   "cell_type": "code",
   "execution_count": 81,
   "id": "d1a4e6c4",
   "metadata": {},
   "outputs": [],
   "source": [
    "#one-hot encoding\n",
    "\n",
    "# columns to onehot encoding\n",
    "one_cols = data[['Type_Income','Marital_status','Housing_type','Type_Occupation']]\n",
    "\n",
    "data = pd.get_dummies(data, columns=['Type_Income','Marital_status','Housing_type','Type_Occupation'],drop_first=True)  # drop_first to avoid multicolinearity"
   ]
  },
  {
   "cell_type": "code",
   "execution_count": 82,
   "id": "4470e87d",
   "metadata": {},
   "outputs": [
    {
     "data": {
      "text/html": [
       "<div>\n",
       "<style scoped>\n",
       "    .dataframe tbody tr th:only-of-type {\n",
       "        vertical-align: middle;\n",
       "    }\n",
       "\n",
       "    .dataframe tbody tr th {\n",
       "        vertical-align: top;\n",
       "    }\n",
       "\n",
       "    .dataframe thead th {\n",
       "        text-align: right;\n",
       "    }\n",
       "</style>\n",
       "<table border=\"1\" class=\"dataframe\">\n",
       "  <thead>\n",
       "    <tr style=\"text-align: right;\">\n",
       "      <th></th>\n",
       "      <th>GENDER</th>\n",
       "      <th>Car_Owner</th>\n",
       "      <th>Propert_Owner</th>\n",
       "      <th>Annual_income</th>\n",
       "      <th>EDUCATION</th>\n",
       "      <th>Work_Phone</th>\n",
       "      <th>Phone</th>\n",
       "      <th>EMAIL_ID</th>\n",
       "      <th>Family_Members</th>\n",
       "      <th>label</th>\n",
       "      <th>...</th>\n",
       "      <th>Type_Occupation_Laborers</th>\n",
       "      <th>Type_Occupation_Low-skill Laborers</th>\n",
       "      <th>Type_Occupation_Managers</th>\n",
       "      <th>Type_Occupation_Medicine staff</th>\n",
       "      <th>Type_Occupation_Private service staff</th>\n",
       "      <th>Type_Occupation_Realty agents</th>\n",
       "      <th>Type_Occupation_Sales staff</th>\n",
       "      <th>Type_Occupation_Secretaries</th>\n",
       "      <th>Type_Occupation_Security staff</th>\n",
       "      <th>Type_Occupation_Waiters/barmen staff</th>\n",
       "    </tr>\n",
       "  </thead>\n",
       "  <tbody>\n",
       "    <tr>\n",
       "      <th>0</th>\n",
       "      <td>1</td>\n",
       "      <td>1</td>\n",
       "      <td>1</td>\n",
       "      <td>180000.000000</td>\n",
       "      <td>3.0</td>\n",
       "      <td>0</td>\n",
       "      <td>0</td>\n",
       "      <td>0</td>\n",
       "      <td>2</td>\n",
       "      <td>1</td>\n",
       "      <td>...</td>\n",
       "      <td>True</td>\n",
       "      <td>False</td>\n",
       "      <td>False</td>\n",
       "      <td>False</td>\n",
       "      <td>False</td>\n",
       "      <td>False</td>\n",
       "      <td>False</td>\n",
       "      <td>False</td>\n",
       "      <td>False</td>\n",
       "      <td>False</td>\n",
       "    </tr>\n",
       "    <tr>\n",
       "      <th>1</th>\n",
       "      <td>0</td>\n",
       "      <td>1</td>\n",
       "      <td>0</td>\n",
       "      <td>315000.000000</td>\n",
       "      <td>3.0</td>\n",
       "      <td>1</td>\n",
       "      <td>1</td>\n",
       "      <td>0</td>\n",
       "      <td>2</td>\n",
       "      <td>1</td>\n",
       "      <td>...</td>\n",
       "      <td>True</td>\n",
       "      <td>False</td>\n",
       "      <td>False</td>\n",
       "      <td>False</td>\n",
       "      <td>False</td>\n",
       "      <td>False</td>\n",
       "      <td>False</td>\n",
       "      <td>False</td>\n",
       "      <td>False</td>\n",
       "      <td>False</td>\n",
       "    </tr>\n",
       "    <tr>\n",
       "      <th>2</th>\n",
       "      <td>0</td>\n",
       "      <td>1</td>\n",
       "      <td>0</td>\n",
       "      <td>315000.000000</td>\n",
       "      <td>3.0</td>\n",
       "      <td>1</td>\n",
       "      <td>1</td>\n",
       "      <td>0</td>\n",
       "      <td>2</td>\n",
       "      <td>1</td>\n",
       "      <td>...</td>\n",
       "      <td>True</td>\n",
       "      <td>False</td>\n",
       "      <td>False</td>\n",
       "      <td>False</td>\n",
       "      <td>False</td>\n",
       "      <td>False</td>\n",
       "      <td>False</td>\n",
       "      <td>False</td>\n",
       "      <td>False</td>\n",
       "      <td>False</td>\n",
       "    </tr>\n",
       "    <tr>\n",
       "      <th>3</th>\n",
       "      <td>0</td>\n",
       "      <td>1</td>\n",
       "      <td>0</td>\n",
       "      <td>259397.560976</td>\n",
       "      <td>3.0</td>\n",
       "      <td>1</td>\n",
       "      <td>1</td>\n",
       "      <td>0</td>\n",
       "      <td>2</td>\n",
       "      <td>1</td>\n",
       "      <td>...</td>\n",
       "      <td>True</td>\n",
       "      <td>False</td>\n",
       "      <td>False</td>\n",
       "      <td>False</td>\n",
       "      <td>False</td>\n",
       "      <td>False</td>\n",
       "      <td>False</td>\n",
       "      <td>False</td>\n",
       "      <td>False</td>\n",
       "      <td>False</td>\n",
       "    </tr>\n",
       "    <tr>\n",
       "      <th>4</th>\n",
       "      <td>0</td>\n",
       "      <td>1</td>\n",
       "      <td>0</td>\n",
       "      <td>315000.000000</td>\n",
       "      <td>3.0</td>\n",
       "      <td>1</td>\n",
       "      <td>1</td>\n",
       "      <td>0</td>\n",
       "      <td>2</td>\n",
       "      <td>1</td>\n",
       "      <td>...</td>\n",
       "      <td>True</td>\n",
       "      <td>False</td>\n",
       "      <td>False</td>\n",
       "      <td>False</td>\n",
       "      <td>False</td>\n",
       "      <td>False</td>\n",
       "      <td>False</td>\n",
       "      <td>False</td>\n",
       "      <td>False</td>\n",
       "      <td>False</td>\n",
       "    </tr>\n",
       "  </tbody>\n",
       "</table>\n",
       "<p>5 rows × 41 columns</p>\n",
       "</div>"
      ],
      "text/plain": [
       "   GENDER  Car_Owner  Propert_Owner  Annual_income  EDUCATION  Work_Phone   \n",
       "0       1          1              1  180000.000000        3.0           0  \\\n",
       "1       0          1              0  315000.000000        3.0           1   \n",
       "2       0          1              0  315000.000000        3.0           1   \n",
       "3       0          1              0  259397.560976        3.0           1   \n",
       "4       0          1              0  315000.000000        3.0           1   \n",
       "\n",
       "   Phone  EMAIL_ID  Family_Members  label  ...  Type_Occupation_Laborers   \n",
       "0      0         0               2      1  ...                      True  \\\n",
       "1      1         0               2      1  ...                      True   \n",
       "2      1         0               2      1  ...                      True   \n",
       "3      1         0               2      1  ...                      True   \n",
       "4      1         0               2      1  ...                      True   \n",
       "\n",
       "   Type_Occupation_Low-skill Laborers  Type_Occupation_Managers   \n",
       "0                               False                     False  \\\n",
       "1                               False                     False   \n",
       "2                               False                     False   \n",
       "3                               False                     False   \n",
       "4                               False                     False   \n",
       "\n",
       "   Type_Occupation_Medicine staff  Type_Occupation_Private service staff   \n",
       "0                           False                                  False  \\\n",
       "1                           False                                  False   \n",
       "2                           False                                  False   \n",
       "3                           False                                  False   \n",
       "4                           False                                  False   \n",
       "\n",
       "   Type_Occupation_Realty agents  Type_Occupation_Sales staff   \n",
       "0                          False                        False  \\\n",
       "1                          False                        False   \n",
       "2                          False                        False   \n",
       "3                          False                        False   \n",
       "4                          False                        False   \n",
       "\n",
       "   Type_Occupation_Secretaries  Type_Occupation_Security staff   \n",
       "0                        False                           False  \\\n",
       "1                        False                           False   \n",
       "2                        False                           False   \n",
       "3                        False                           False   \n",
       "4                        False                           False   \n",
       "\n",
       "   Type_Occupation_Waiters/barmen staff  \n",
       "0                                 False  \n",
       "1                                 False  \n",
       "2                                 False  \n",
       "3                                 False  \n",
       "4                                 False  \n",
       "\n",
       "[5 rows x 41 columns]"
      ]
     },
     "execution_count": 82,
     "metadata": {},
     "output_type": "execute_result"
    }
   ],
   "source": [
    "data.head()"
   ]
  },
  {
   "cell_type": "code",
   "execution_count": 83,
   "id": "b7f362c8",
   "metadata": {},
   "outputs": [
    {
     "data": {
      "text/plain": [
       "(252, 41)"
      ]
     },
     "execution_count": 83,
     "metadata": {},
     "output_type": "execute_result"
    }
   ],
   "source": [
    "data.shape"
   ]
  },
  {
   "cell_type": "code",
   "execution_count": 84,
   "id": "f1a1d2a0",
   "metadata": {},
   "outputs": [
    {
     "data": {
      "image/png": "[encoded data removed]",
      "text/plain": [
       "<Figure size 500x400 with 1 Axes>"
      ]
     },
     "metadata": {},
     "output_type": "display_data"
    }
   ],
   "source": [
    "#handling imbalance data\n",
    "plt.figure(figsize = (5,4))\n",
    "sns.countplot( data= data, x ='label')\n",
    "plt.title(\"Distribution of Output variable)\")\n",
    "\n",
    "plt.grid()\n",
    "plt.show()"
   ]
  },
  {
   "cell_type": "code",
   "execution_count": 85,
   "id": "862424f4",
   "metadata": {},
   "outputs": [
    {
     "data": {
      "text/plain": [
       "label\n",
       "1    147\n",
       "0    105\n",
       "Name: count, dtype: int64"
      ]
     },
     "execution_count": 85,
     "metadata": {},
     "output_type": "execute_result"
    }
   ],
   "source": [
    "#No imbalance in dataset\n",
    "data['label'].value_counts()\n"
   ]
  },
  {
   "cell_type": "code",
   "execution_count": 86,
   "id": "2fa65d78",
   "metadata": {},
   "outputs": [],
   "source": [
    "X = data.drop(columns=['label'])\n",
    "y = data['label']"
   ]
  },
  {
   "cell_type": "code",
   "execution_count": 87,
   "id": "53330147",
   "metadata": {},
   "outputs": [],
   "source": [
    "#Splitting data into training and testing\n",
    "from sklearn.model_selection import train_test_split\n",
    "\n",
    "X_train, X_test, y_train, y_test=train_test_split(X, y, test_size=0.25, random_state=10)"
   ]
  },
  {
   "cell_type": "code",
   "execution_count": 88,
   "id": "7deacac0",
   "metadata": {},
   "outputs": [
    {
     "data": {
      "text/plain": [
       "(189, 40)"
      ]
     },
     "execution_count": 88,
     "metadata": {},
     "output_type": "execute_result"
    }
   ],
   "source": [
    "X_train.shape"
   ]
  },
  {
   "cell_type": "code",
   "execution_count": 89,
   "id": "60886531",
   "metadata": {},
   "outputs": [
    {
     "data": {
      "text/plain": [
       "(63, 40)"
      ]
     },
     "execution_count": 89,
     "metadata": {},
     "output_type": "execute_result"
    }
   ],
   "source": [
    "X_test.shape"
   ]
  },
  {
   "cell_type": "code",
   "execution_count": 90,
   "id": "142f119d",
   "metadata": {},
   "outputs": [],
   "source": [
    "#feature scaling\n",
    "from sklearn.preprocessing import MinMaxScaler\n",
    "\n",
    "scaler = MinMaxScaler()\n",
    "\n",
    "X_train_scaled = scaler.fit_transform(X_train)\n",
    "\n",
    "X_test_scaled = scaler.transform(X_test)"
   ]
  },
  {
   "cell_type": "code",
   "execution_count": 91,
   "id": "4c48083d",
   "metadata": {},
   "outputs": [],
   "source": [
    "#Model training\n",
    "# Required imports\n",
    "from sklearn.linear_model import LogisticRegression\n",
    "from sklearn.ensemble import RandomForestClassifier\n",
    "from xgboost import XGBClassifier\n",
    "from sklearn.metrics import accuracy_score, precision_score, recall_score, f1_score ,roc_auc_score\n",
    "\n",
    "# Initialize the classifiers\n",
    "log_reg = LogisticRegression(max_iter=1000, random_state=10)\n",
    "rfc = RandomForestClassifier(random_state=42)\n",
    "xgb = XGBClassifier(random_state=10, use_label_encoder=False, eval_metric='logloss')"
   ]
  },
  {
   "cell_type": "code",
   "execution_count": 92,
   "id": "2cdd41cf",
   "metadata": {},
   "outputs": [
    {
     "name": "stderr",
     "output_type": "stream",
     "text": [
      "C:\\Users\\Lenovo\\anaconda3\\envs\\Python_envrnmt\\lib\\site-packages\\xgboost\\core.py:158: UserWarning: [15:18:44] WARNING: C:\\buildkite-agent\\builds\\buildkite-windows-cpu-autoscaling-group-i-06abd128ca6c1688d-1\\xgboost\\xgboost-ci-windows\\src\\learner.cc:740: \n",
      "Parameters: { \"use_label_encoder\" } are not used.\n",
      "\n",
      "  warnings.warn(smsg, UserWarning)\n"
     ]
    }
   ],
   "source": [
    "# Dictionary to store results\n",
    "results = {}\n",
    "\n",
    "# List of classifiers\n",
    "classifiers = [('Logistic Regression', log_reg),\n",
    "               ('Random Forest', rfc),\n",
    "               ('XGBoost', xgb)]\n",
    "\n",
    "# Train, predict, and store results\n",
    "for name, clf in classifiers:\n",
    "    clf.fit(X_train_scaled, y_train)\n",
    "    y_pred = clf.predict(X_test_scaled)\n",
    "\n",
    "    accuracy = accuracy_score(y_test, y_pred)\n",
    "    precision = precision_score(y_test, y_pred)\n",
    "    recall = recall_score(y_test, y_pred)\n",
    "    f1 = f1_score(y_test, y_pred)\n",
    "    roc_auc_test = roc_auc_score(y_test, y_pred)\n",
    "\n",
    "    results[name] = [accuracy, precision, recall, f1 , roc_auc_test]"
   ]
  },
  {
   "cell_type": "code",
   "execution_count": 93,
   "id": "a7ec9abb",
   "metadata": {},
   "outputs": [
    {
     "data": {
      "text/html": [
       "<div>\n",
       "<style scoped>\n",
       "    .dataframe tbody tr th:only-of-type {\n",
       "        vertical-align: middle;\n",
       "    }\n",
       "\n",
       "    .dataframe tbody tr th {\n",
       "        vertical-align: top;\n",
       "    }\n",
       "\n",
       "    .dataframe thead th {\n",
       "        text-align: right;\n",
       "    }\n",
       "</style>\n",
       "<table border=\"1\" class=\"dataframe\">\n",
       "  <thead>\n",
       "    <tr style=\"text-align: right;\">\n",
       "      <th></th>\n",
       "      <th>Accuracy</th>\n",
       "      <th>Precision</th>\n",
       "      <th>Recall</th>\n",
       "      <th>F1-Score</th>\n",
       "      <th>ROC AUC Score</th>\n",
       "    </tr>\n",
       "  </thead>\n",
       "  <tbody>\n",
       "    <tr>\n",
       "      <th>Logistic Regression</th>\n",
       "      <td>0.492063</td>\n",
       "      <td>0.510638</td>\n",
       "      <td>0.727273</td>\n",
       "      <td>0.600000</td>\n",
       "      <td>0.480303</td>\n",
       "    </tr>\n",
       "    <tr>\n",
       "      <th>Random Forest</th>\n",
       "      <td>0.603175</td>\n",
       "      <td>0.600000</td>\n",
       "      <td>0.727273</td>\n",
       "      <td>0.657534</td>\n",
       "      <td>0.596970</td>\n",
       "    </tr>\n",
       "    <tr>\n",
       "      <th>XGBoost</th>\n",
       "      <td>0.523810</td>\n",
       "      <td>0.536585</td>\n",
       "      <td>0.666667</td>\n",
       "      <td>0.594595</td>\n",
       "      <td>0.516667</td>\n",
       "    </tr>\n",
       "  </tbody>\n",
       "</table>\n",
       "</div>"
      ],
      "text/plain": [
       "                     Accuracy  Precision    Recall  F1-Score  ROC AUC Score\n",
       "Logistic Regression  0.492063   0.510638  0.727273  0.600000       0.480303\n",
       "Random Forest        0.603175   0.600000  0.727273  0.657534       0.596970\n",
       "XGBoost              0.523810   0.536585  0.666667  0.594595       0.516667"
      ]
     },
     "execution_count": 93,
     "metadata": {},
     "output_type": "execute_result"
    }
   ],
   "source": [
    "# Convert the results dictionary to a DataFrame for better visualization\n",
    "\n",
    "results_data = pd.DataFrame(results, index=['Accuracy', 'Precision', 'Recall', 'F1-Score', 'ROC AUC Score']).T\n",
    "results_data"
   ]
  },
  {
   "cell_type": "code",
   "execution_count": 94,
   "id": "7a9afd1f",
   "metadata": {},
   "outputs": [],
   "source": [
    "#HyperParameter tuning\n",
    "\n",
    "from sklearn.model_selection import GridSearchCV"
   ]
  },
  {
   "cell_type": "code",
   "execution_count": 95,
   "id": "b84edbc9",
   "metadata": {},
   "outputs": [
    {
     "name": "stdout",
     "output_type": "stream",
     "text": [
      "Fitting 5 folds for each of 432 candidates, totalling 2160 fits\n"
     ]
    },
    {
     "name": "stderr",
     "output_type": "stream",
     "text": [
      "C:\\Users\\Lenovo\\anaconda3\\envs\\Python_envrnmt\\lib\\site-packages\\xgboost\\core.py:158: UserWarning: [15:19:12] WARNING: C:\\buildkite-agent\\builds\\buildkite-windows-cpu-autoscaling-group-i-06abd128ca6c1688d-1\\xgboost\\xgboost-ci-windows\\src\\learner.cc:740: \n",
      "Parameters: { \"use_label_encoder\" } are not used.\n",
      "\n",
      "  warnings.warn(smsg, UserWarning)\n"
     ]
    },
    {
     "name": "stdout",
     "output_type": "stream",
     "text": [
      "{'colsample_bytree': 0.8, 'learning_rate': 0.05, 'max_depth': 3, 'n_estimators': 200, 'subsample': 1}\n"
     ]
    }
   ],
   "source": [
    "# the parameter grid for XGBoost\n",
    "\n",
    "param_grid = {\n",
    "    'learning_rate': [0.01, 0.05, 0.1],\n",
    "    'max_depth': [3, 4, 5, 6],\n",
    "    'n_estimators': [50, 100, 150, 200],\n",
    "    'subsample': [0.8, 0.9, 1],\n",
    "    'colsample_bytree': [0.8, 0.9, 1]\n",
    "}\n",
    "\n",
    "# initialize GridSearchCV\n",
    "clf_xgb = XGBClassifier(random_state=10, use_label_encoder=False, eval_metric='logloss')\n",
    "\n",
    "grid_search = GridSearchCV(clf_xgb, param_grid, scoring='accuracy', cv=5, verbose=1, n_jobs=-1)\n",
    "\n",
    "# fit GridSearchCV\n",
    "grid_search.fit(X_train_scaled, y_train)\n",
    "\n",
    "print(grid_search.best_params_)"
   ]
  },
  {
   "cell_type": "code",
   "execution_count": 96,
   "id": "0c4d8f4b",
   "metadata": {},
   "outputs": [
    {
     "name": "stdout",
     "output_type": "stream",
     "text": [
      "Accuracy after Hyperparameter Tuning: 0.5555555555555556\n",
      "Precision after Hyperparameter Tuning: 0.5510204081632653\n",
      "Recall after Hyperparameter Tuning: 0.8181818181818182\n",
      "F1-Score after Hyperparameter Tuning: 0.6585365853658537\n",
      "ROC AUC Score after Hyperparameter Tuning: 0.5424242424242425\n"
     ]
    }
   ],
   "source": [
    "# Initialize the XGBoost classifier with the best parameters\n",
    "\n",
    "xgb_best = XGBClassifier(\n",
    "    colsample_bytree=0.8,\n",
    "    learning_rate=0.05,\n",
    "    max_depth=3,\n",
    "    n_estimators=200,\n",
    "    subsample=1,\n",
    "    random_state=10,\n",
    "    use_label_encoder=False,\n",
    "    eval_metric='logloss'\n",
    ")\n",
    "# Train the model\n",
    "xgb_best.fit(X_train_scaled, y_train)\n",
    "\n",
    "# Predict on the test set\n",
    "y_pred_best = xgb_best.predict(X_test_scaled)\n",
    "\n",
    "# Calculate and print the metrics\n",
    "accuracy_best = accuracy_score(y_test, y_pred_best)\n",
    "precision_best = precision_score(y_test, y_pred_best)\n",
    "recall_best = recall_score(y_test, y_pred_best)\n",
    "f1_best = f1_score(y_test, y_pred_best)\n",
    "roc_auc_best = roc_auc_score(y_test, y_pred_best)\n",
    "\n",
    "print(f\"Accuracy after Hyperparameter Tuning: {accuracy_best}\")\n",
    "print(f\"Precision after Hyperparameter Tuning: {precision_best}\")\n",
    "print(f\"Recall after Hyperparameter Tuning: {recall_best}\")\n",
    "print(f\"F1-Score after Hyperparameter Tuning: {f1_best}\")\n",
    "print(f\"ROC AUC Score after Hyperparameter Tuning: {roc_auc_best}\")"
   ]
  },
  {
   "cell_type": "code",
   "execution_count": 97,
   "id": "cb39306e",
   "metadata": {},
   "outputs": [
    {
     "name": "stdout",
     "output_type": "stream",
     "text": [
      "Best parameters: {'C': 0.1, 'penalty': 'l2', 'solver': 'saga'}\n"
     ]
    }
   ],
   "source": [
    "# the parameter grid for logistic regression\n",
    "\n",
    "param_grid = {\n",
    "    'C': [0.001, 0.01, 0.1, 1, 10, 100],\n",
    "    'penalty': ['l1', 'l2'],\n",
    "    'solver': ['liblinear', 'saga']  # Only these solvers support L1\n",
    "}\n",
    "model = LogisticRegression(max_iter=10000)\n",
    "grid_search = GridSearchCV(model, param_grid, cv=5, scoring='accuracy')\n",
    "grid_search.fit(X_train_scaled, y_train)\n",
    "print(f\"Best parameters: {grid_search.best_params_}\")\n"
   ]
  },
  {
   "cell_type": "code",
   "execution_count": 98,
   "id": "c4517c23",
   "metadata": {},
   "outputs": [
    {
     "name": "stdout",
     "output_type": "stream",
     "text": [
      "Accuracy after Hyperparameter Tuning: 0.5396825396825397\n",
      "Precision after Hyperparameter Tuning: 0.5333333333333333\n",
      "Recall after Hyperparameter Tuning: 0.9696969696969697\n",
      "F1-Score after Hyperparameter Tuning: 0.6881720430107527\n",
      "ROC AUC Score after Hyperparameter Tuning: 0.5181818181818182\n"
     ]
    }
   ],
   "source": [
    "logistic_best = LogisticRegression(\n",
    "                C = 0.1,\n",
    "                penalty = 'l2',\n",
    "                solver = 'saga')\n",
    "\n",
    "#train model\n",
    "logistic_best.fit(X_train_scaled, y_train)\n",
    "\n",
    "# Predict on the test set\n",
    "y_pred_best = logistic_best.predict(X_test_scaled)\n",
    "\n",
    "# Calculate and print the metrics\n",
    "accuracy_best = accuracy_score(y_test, y_pred_best)\n",
    "precision_best = precision_score(y_test, y_pred_best)\n",
    "recall_best = recall_score(y_test, y_pred_best)\n",
    "f1_best = f1_score(y_test, y_pred_best)\n",
    "roc_auc_best = roc_auc_score(y_test, y_pred_best)\n",
    "\n",
    "print(f\"Accuracy after Hyperparameter Tuning: {accuracy_best}\")\n",
    "print(f\"Precision after Hyperparameter Tuning: {precision_best}\")\n",
    "print(f\"Recall after Hyperparameter Tuning: {recall_best}\")\n",
    "print(f\"F1-Score after Hyperparameter Tuning: {f1_best}\")\n",
    "print(f\"ROC AUC Score after Hyperparameter Tuning: {roc_auc_best}\")"
   ]
  },
  {
   "cell_type": "code",
   "execution_count": 99,
   "id": "98dea11f",
   "metadata": {},
   "outputs": [
    {
     "name": "stdout",
     "output_type": "stream",
     "text": [
      "Best parameters: {'max_depth': 20, 'min_samples_leaf': 2, 'min_samples_split': 2, 'n_estimators': 300}\n"
     ]
    }
   ],
   "source": [
    "#param grid for random forest\n",
    "\n",
    "param_grid = {\n",
    "    'n_estimators': [100, 200, 300, 400],\n",
    "    'max_depth': [10, 20,30,40,50, None],\n",
    "    'min_samples_split': [2, 5, 7],\n",
    "    'min_samples_leaf': [1, 2, 3]\n",
    "}\n",
    "\n",
    "rf = RandomForestClassifier(random_state=10)\n",
    "grid_search = GridSearchCV(rf, param_grid,scoring = 'accuracy', cv=5, n_jobs=-1)\n",
    "grid_search.fit(X_train_scaled, y_train)\n",
    "print(f\"Best parameters: {grid_search.best_params_}\")"
   ]
  },
  {
   "cell_type": "code",
   "execution_count": 100,
   "id": "59377e76",
   "metadata": {},
   "outputs": [
    {
     "name": "stdout",
     "output_type": "stream",
     "text": [
      "Accuracy after Hyperparameter Tuning: 0.6190476190476191\n",
      "Precision after Hyperparameter Tuning: 0.6046511627906976\n",
      "Recall after Hyperparameter Tuning: 0.7878787878787878\n",
      "F1-Score after Hyperparameter Tuning: 0.6842105263157895\n",
      "ROC AUC Score after Hyperparameter Tuning: 0.6106060606060606\n"
     ]
    }
   ],
   "source": [
    "# Initialize the Random forest classifier with the best parameters\n",
    "\n",
    "rf_best = RandomForestClassifier(\n",
    "    max_depth = 40,\n",
    "    min_samples_leaf = 1,\n",
    "    n_estimators = 200,\n",
    "    min_samples_split = 2\n",
    ")\n",
    "# Train the model\n",
    "rf_best.fit(X_train_scaled, y_train)\n",
    "\n",
    "# Predict on the test set\n",
    "y_pred_best = rf_best.predict(X_test_scaled)\n",
    "\n",
    "# Calculate and print the metrics\n",
    "accuracy_best = accuracy_score(y_test, y_pred_best)\n",
    "precision_best = precision_score(y_test, y_pred_best)\n",
    "recall_best = recall_score(y_test, y_pred_best)\n",
    "f1_best = f1_score(y_test, y_pred_best)\n",
    "roc_auc_best = roc_auc_score(y_test, y_pred_best)\n",
    "\n",
    "print(f\"Accuracy after Hyperparameter Tuning: {accuracy_best}\")\n",
    "print(f\"Precision after Hyperparameter Tuning: {precision_best}\")\n",
    "print(f\"Recall after Hyperparameter Tuning: {recall_best}\")\n",
    "print(f\"F1-Score after Hyperparameter Tuning: {f1_best}\")\n",
    "print(f\"ROC AUC Score after Hyperparameter Tuning: {roc_auc_best}\")"
   ]
  },
  {
   "cell_type": "code",
   "execution_count": 101,
   "id": "7db0b95f",
   "metadata": {},
   "outputs": [
    {
     "name": "stdout",
     "output_type": "stream",
     "text": [
      "                     Accuracy  Precision  Recall  F1-Score  ROC AUC Score\n",
      "XGBoost                0.5556     0.5510  0.8182    0.6585         0.5424\n",
      "Logistic Regression    0.5397     0.5333  0.9697    0.6882         0.5182\n",
      "Random Forest          0.5873     0.5814  0.7576    0.6579         0.5788\n"
     ]
    }
   ],
   "source": [
    "import pandas as pd\n",
    "\n",
    "# Data in metric-as-rows format\n",
    "data = {\n",
    "    'Metric': ['Accuracy', 'Precision', 'Recall', 'F1-Score', 'ROC AUC'],\n",
    "    'XGBoost': [0.5556, 0.5510, 0.8182, 0.6585, 0.5424],\n",
    "    'Logistic Regression': [0.5397, 0.5333, 0.9697, 0.6882, 0.5182],\n",
    "    'Random Forest': [0.5873, 0.5814, 0.7576, 0.6579, 0.5788]\n",
    "}\n",
    "\n",
    "# Create DataFrame\n",
    "df = pd.DataFrame(data)\n",
    "\n",
    "# Set 'Metric' as index and transpose\n",
    "df = df.set_index('Metric').T\n",
    "\n",
    "#Rename columns for clarity\n",
    "df.columns = ['Accuracy', 'Precision', 'Recall', 'F1-Score', 'ROC AUC Score']\n",
    "\n",
    "print(df)\n"
   ]
  },
  {
   "cell_type": "code",
   "execution_count": 102,
   "id": "d2e58271",
   "metadata": {},
   "outputs": [
    {
     "name": "stdout",
     "output_type": "stream",
     "text": [
      "Before:               Logistic Regression  Random Forest   XGBoost\n",
      "Metric                                                     \n",
      "Accuracy                  0.492063       0.603175  0.523810\n",
      "Precision                 0.510638       0.600000  0.536585\n",
      "Recall                    0.727273       0.727273  0.666667\n",
      "F1-Score                  0.600000       0.657534  0.594595\n",
      "ROC AUC Score             0.480303       0.596970  0.516667\n",
      "After:               Logistic Regression  Random Forest  XGBoost\n",
      "Metric                                                    \n",
      "Accuracy                    0.5397         0.5873   0.5556\n",
      "Precision                   0.5333         0.5814   0.5510\n",
      "Recall                      0.9697         0.7576   0.8182\n",
      "F1-Score                    0.6882         0.6579   0.6585\n",
      "ROC AUC Score               0.5182         0.5788   0.5424\n"
     ]
    }
   ],
   "source": [
    "import pandas as pd\n",
    "\n",
    "# Before tuning\n",
    "before = {\n",
    "    'Metric': ['Accuracy', 'Precision', 'Recall', 'F1-Score', 'ROC AUC Score'],\n",
    "    'Logistic Regression': [0.492063, 0.510638, 0.727273, 0.600000, 0.480303],\n",
    "    'Random Forest': [0.603175, 0.600000, 0.727273, 0.657534, 0.596970],\n",
    "    'XGBoost': [0.523810, 0.536585, 0.666667, 0.594595, 0.516667]\n",
    "}\n",
    "\n",
    "# After tuning\n",
    "after = {\n",
    "    'Metric': ['Accuracy', 'Precision', 'Recall', 'F1-Score', 'ROC AUC Score'],\n",
    "    'Logistic Regression': [0.5397, 0.5333, 0.9697, 0.6882, 0.5182],\n",
    "    'Random Forest': [0.5873, 0.5814, 0.7576, 0.6579, 0.5788],\n",
    "    'XGBoost': [0.5556, 0.5510, 0.8182, 0.6585, 0.5424]\n",
    "}\n",
    "\n",
    "# Convert to DataFrames and set 'Metric' as index\n",
    "df_before = pd.DataFrame(before).set_index('Metric')\n",
    "df_after = pd.DataFrame(after).set_index('Metric')\n",
    "\n",
    "print(f\"Before:{df_before}\")\n",
    "\n",
    "print(f\"After:{df_after}\")\n"
   ]
  },
  {
   "cell_type": "markdown",
   "id": "12f27963",
   "metadata": {},
   "source": [
    "Logistic Regression:\n",
    "\n",
    "* All metrics improved after tuning, especially recall (from 0.73 to 0.97) and F1-score (from 0.60 to 0.69).\n",
    "\n",
    "\n",
    "Random Forest:\n",
    "\n",
    "* Recall and F1-score improved slightly, but accuracy and ROC AUC decreased marginally.\n",
    "\n",
    "* Precision dropped a bit, suggesting a trade-off between recall and precision after tuning.\n",
    "\n",
    "XGBoost:\n",
    "\n",
    "* All metrics improved after tuning, with the most notable gains in recall (from 0.67 to 0.82) and F1-score (from 0.59 to 0.66).\n"
   ]
  },
  {
   "cell_type": "markdown",
   "id": "b368b539",
   "metadata": {},
   "source": [
    "Random Forest achieved the best overall performance after tuning because of its ensemble bagging approach, which constructs multiple decision trees in parallel using random subsets of the data and features. This method reduces variance and helps prevent overfitting, resulting in consistently high accuracy and robust generalization across different metrics"
   ]
  },
  {
   "cell_type": "code",
   "execution_count": 103,
   "id": "a38691f9",
   "metadata": {},
   "outputs": [
    {
     "ename": "AttributeError",
     "evalue": "'dict' object has no attribute 'shape'",
     "output_type": "error",
     "traceback": [
      "\u001b[1;31m---------------------------------------------------------------------------\u001b[0m",
      "\u001b[1;31mAttributeError\u001b[0m                            Traceback (most recent call last)",
      "Cell \u001b[1;32mIn[103], line 1\u001b[0m\n\u001b[1;32m----> 1\u001b[0m \u001b[43mdata\u001b[49m\u001b[38;5;241;43m.\u001b[39;49m\u001b[43mshape\u001b[49m\n",
      "\u001b[1;31mAttributeError\u001b[0m: 'dict' object has no attribute 'shape'"
     ]
    }
   ],
   "source": [
    "data.shape"
   ]
  },
  {
   "cell_type": "markdown",
   "id": "8f83702a",
   "metadata": {},
   "source": [
    "#Feature Selection Impact\n",
    "For dataset of 300 samples, I used a filter method based on correlation analysis to select the 10 most relevant features for credit card approval prediction. This approach is best for small datasets"
   ]
  },
  {
   "cell_type": "code",
   "execution_count": null,
   "id": "2959a6f9",
   "metadata": {},
   "outputs": [],
   "source": [
    "#selecting top 10 features\n",
    "\n",
    "corr_matrix = data.corr(method='pearson')  # or 'spearman', 'kendall'\n",
    "target_corr = corr_matrix['label'].abs().sort_values(ascending=False)\n",
    "\n",
    "# Exclude the target itself and select the top 10 features\n",
    "top_features = target_corr.index[1:11]\n",
    "print(\"Top 10 features based on correlation with target:\", list(top_features))\n",
    "\n",
    "# Subset your data\n",
    "X_selected = data[top_features]\n"
   ]
  },
  {
   "cell_type": "markdown",
   "id": "f3418e5a",
   "metadata": {},
   "source": [
    "# Retrain model on reduced feature set"
   ]
  },
  {
   "cell_type": "code",
   "execution_count": null,
   "id": "9e2f80d2",
   "metadata": {},
   "outputs": [],
   "source": [
    "#Splitting data into training and testing\n",
    "from sklearn.model_selection import train_test_split\n",
    "\n",
    "X_train_2, X_test_2, y_train_2, y_test_2=train_test_split(X_selected, y, test_size=0.25, random_state=10)"
   ]
  },
  {
   "cell_type": "code",
   "execution_count": null,
   "id": "be91b9d3",
   "metadata": {},
   "outputs": [],
   "source": [
    "X_train_2.shape"
   ]
  },
  {
   "cell_type": "code",
   "execution_count": null,
   "id": "e5126d88",
   "metadata": {},
   "outputs": [],
   "source": [
    "X_test_2.shape"
   ]
  },
  {
   "cell_type": "code",
   "execution_count": null,
   "id": "ea3e5895",
   "metadata": {},
   "outputs": [],
   "source": [
    "#feature scaling\n",
    "from sklearn.preprocessing import MinMaxScaler\n",
    "\n",
    "scaler_2 = MinMaxScaler()\n",
    "\n",
    "X_train_scaled_2 = scaler_2.fit_transform(X_train_2)\n",
    "\n",
    "X_test_scaled_2 = scaler_2.transform(X_test_2)"
   ]
  },
  {
   "cell_type": "code",
   "execution_count": null,
   "id": "18db1495",
   "metadata": {},
   "outputs": [],
   "source": [
    "#Model training\n",
    "# Required imports\n",
    "from sklearn.linear_model import LogisticRegression\n",
    "from sklearn.ensemble import RandomForestClassifier\n",
    "from xgboost import XGBClassifier\n",
    "from sklearn.metrics import accuracy_score, precision_score, recall_score, f1_score ,roc_auc_score\n",
    "\n",
    "# Initialize the classifiers\n",
    "log_reg = LogisticRegression(max_iter=1000, random_state=10)\n",
    "rfc = RandomForestClassifier(random_state=42)\n",
    "xgb = XGBClassifier(random_state=10, use_label_encoder=False, eval_metric='logloss')"
   ]
  },
  {
   "cell_type": "code",
   "execution_count": null,
   "id": "ecdc2a6a",
   "metadata": {},
   "outputs": [],
   "source": [
    "# Dictionary to store results\n",
    "results_2 = {}\n",
    "\n",
    "# List of classifiers\n",
    "classifiers_2 = [('Logistic Regression', log_reg),\n",
    "               ('Random Forest', rfc),\n",
    "               ('XGBoost', xgb)]\n",
    "\n",
    "# Train, predict, and store results\n",
    "for name_2, clf_2 in classifiers_2:\n",
    "    clf_2.fit(X_train_scaled_2, y_train_2)\n",
    "    y_pred_2 = clf_2.predict(X_test_scaled_2)\n",
    "\n",
    "    accuracy_2 = accuracy_score(y_test_2, y_pred_2)\n",
    "    precision_2 = precision_score(y_test_2, y_pred_2)\n",
    "    recall_2 = recall_score(y_test_2, y_pred_2)\n",
    "    f1_2 = f1_score(y_test_2, y_pred_2)\n",
    "    roc_auc_test_2 = roc_auc_score(y_test_2, y_pred_2)\n",
    "\n",
    "    results_2[name_2] = [accuracy_2, precision_2, recall_2, f1_2 , roc_auc_test_2]"
   ]
  },
  {
   "cell_type": "code",
   "execution_count": null,
   "id": "49bb3800",
   "metadata": {},
   "outputs": [],
   "source": [
    "# Convert the results dictionary to a DataFrame for better visualization\n",
    "\n",
    "results_data_2 = pd.DataFrame(results_2, index=['Accuracy_2', 'Precision_2', 'Recall_2', 'F1-Score_2', 'ROC AUC Score_2']).T\n",
    "results_data_2"
   ]
  },
  {
   "cell_type": "code",
   "execution_count": null,
   "id": "c8e4a83e",
   "metadata": {},
   "outputs": [],
   "source": [
    "# the parameter grid for XGBoost\n",
    "\n",
    "param_grid_2 = {\n",
    "    'learning_rate': [0.01, 0.05, 0.1],\n",
    "    'max_depth': [3, 4, 5, 6],\n",
    "    'n_estimators': [50, 100, 150, 200],\n",
    "    'subsample': [0.8, 0.9, 1],\n",
    "    'colsample_bytree': [0.8, 0.9, 1]\n",
    "}\n",
    "\n",
    "# initialize GridSearchCV\n",
    "clf_xgb_2 = XGBClassifier(random_state=10, use_label_encoder=False, eval_metric='logloss')\n",
    "\n",
    "grid_search_2 = GridSearchCV(clf_xgb_2, param_grid_2, scoring='accuracy', cv=5, verbose=1, n_jobs=-1)\n",
    "\n",
    "# fit GridSearchCV\n",
    "grid_search_2.fit(X_train_scaled_2, y_train_2)\n",
    "\n",
    "print(grid_search_2.best_params_)"
   ]
  },
  {
   "cell_type": "code",
   "execution_count": null,
   "id": "9d5b5264",
   "metadata": {},
   "outputs": [],
   "source": [
    "# Initialize the XGBoost classifier with the best parameters\n",
    "\n",
    "xgb_best_2 = XGBClassifier(\n",
    "    colsample_bytree=0.9,\n",
    "    learning_rate=0.01,\n",
    "    max_depth=4,\n",
    "    n_estimators=100,\n",
    "    subsample=0.9,\n",
    "    random_state=10,\n",
    "    use_label_encoder=False,\n",
    "    eval_metric='logloss'\n",
    ")\n",
    "# Train the model\n",
    "xgb_best_2.fit(X_train_scaled_2, y_train_2)\n",
    "\n",
    "# Predict on the test set\n",
    "y_pred_best_2 = xgb_best_2.predict(X_test_scaled_2)\n",
    "\n",
    "# Calculate and print the metrics\n",
    "accuracy_best_2 = accuracy_score(y_test_2, y_pred_best_2)\n",
    "precision_best_2 = precision_score(y_test_2, y_pred_best_2)\n",
    "recall_best_2 = recall_score(y_test_2, y_pred_best_2)\n",
    "f1_best_2 = f1_score(y_test_2, y_pred_best_2)\n",
    "roc_auc_best_2 = roc_auc_score(y_test_2, y_pred_best_2)\n",
    "\n",
    "print(f\"Accuracy after Hyperparameter Tuning: {accuracy_best_2}\")\n",
    "print(f\"Precision after Hyperparameter Tuning: {precision_best_2}\")\n",
    "print(f\"Recall after Hyperparameter Tuning: {recall_best_2}\")\n",
    "print(f\"F1-Score after Hyperparameter Tuning: {f1_best_2}\")\n",
    "print(f\"ROC AUC Score after Hyperparameter Tuning: {roc_auc_best_2}\")"
   ]
  },
  {
   "cell_type": "code",
   "execution_count": null,
   "id": "647a66e4",
   "metadata": {},
   "outputs": [],
   "source": [
    "# the parameter grid for logistic regression\n",
    "\n",
    "param_grid_2 = {\n",
    "    'C': [0.001, 0.01, 0.1, 1, 10, 100],\n",
    "    'penalty': ['l1', 'l2'],\n",
    "    'solver': ['liblinear', 'saga']  # Only these solvers support L1\n",
    "}\n",
    "model_2 = LogisticRegression(max_iter=10000)\n",
    "grid_search_2 = GridSearchCV(model_2, param_grid_2, cv=5, scoring='accuracy')\n",
    "grid_search_2.fit(X_train_scaled_2, y_train_2)\n",
    "print(f\"Best parameters: {grid_search_2.best_params_}\")\n"
   ]
  },
  {
   "cell_type": "code",
   "execution_count": null,
   "id": "f3e81f82",
   "metadata": {},
   "outputs": [],
   "source": [
    "logistic_best_2 = LogisticRegression(\n",
    "                C = 0.1,\n",
    "                penalty = 'l2',\n",
    "                solver = 'liblinear')\n",
    "\n",
    "#train model\n",
    "logistic_best_2.fit(X_train_scaled_2, y_train_2)\n",
    "\n",
    "# Predict on the test set\n",
    "y_pred_best_2 = logistic_best_2.predict(X_test_scaled_2)\n",
    "\n",
    "# Calculate and print the metrics\n",
    "accuracy_best_2 = accuracy_score(y_test_2, y_pred_best_2)\n",
    "precision_best_2 = precision_score(y_test_2, y_pred_best_2)\n",
    "recall_best_2 = recall_score(y_test_2, y_pred_best_2)\n",
    "f1_best_2 = f1_score(y_test_2, y_pred_best_2)\n",
    "roc_auc_best_2 = roc_auc_score(y_test_2, y_pred_best_2)\n",
    "\n",
    "print(f\"Accuracy after Hyperparameter Tuning: {accuracy_best_2}\")\n",
    "print(f\"Precision after Hyperparameter Tuning: {precision_best_2}\")\n",
    "print(f\"Recall after Hyperparameter Tuning: {recall_best_2}\")\n",
    "print(f\"F1-Score after Hyperparameter Tuning: {f1_best_2}\")\n",
    "print(f\"ROC AUC Score after Hyperparameter Tuning: {roc_auc_best_2}\")"
   ]
  },
  {
   "cell_type": "code",
   "execution_count": null,
   "id": "36aeb8a8",
   "metadata": {},
   "outputs": [],
   "source": [
    "#param grid for random forest\n",
    "\n",
    "param_grid_2 = {\n",
    "    'n_estimators': [100, 200, 300, 400],\n",
    "    'max_depth': [10, 20,30,40,50, None],\n",
    "    'min_samples_split': [2, 5, 7],\n",
    "    'min_samples_leaf': [1, 2, 3]\n",
    "}\n",
    "\n",
    "rf_2 = RandomForestClassifier(random_state=10)\n",
    "grid_search_2 = GridSearchCV(rf_2, param_grid_2,scoring = 'accuracy', cv=5, n_jobs=-1)\n",
    "grid_search_2.fit(X_train_scaled_2, y_train_2)\n",
    "print(f\"Best parameters: {grid_search_2.best_params_}\")"
   ]
  },
  {
   "cell_type": "code",
   "execution_count": null,
   "id": "1711bdf1",
   "metadata": {},
   "outputs": [],
   "source": [
    "# Initialize the Random forest classifier with the best parameters\n",
    "\n",
    "rf_best_2 = RandomForestClassifier(\n",
    "    max_depth = 10,\n",
    "    min_samples_leaf = 1,\n",
    "    n_estimators = 100,\n",
    "    min_samples_split = 2\n",
    ")\n",
    "# Train the model\n",
    "rf_best_2.fit(X_train_scaled_2, y_train_2)\n",
    "\n",
    "# Predict on the test set\n",
    "y_pred_best_2 = rf_best_2.predict(X_test_scaled_2)\n",
    "\n",
    "# Calculate and print the metrics\n",
    "accuracy_best_2 = accuracy_score(y_test_2, y_pred_best_2)\n",
    "precision_best_2 = precision_score(y_test_2, y_pred_best_2)\n",
    "recall_best_2 = recall_score(y_test_2, y_pred_best_2)\n",
    "f1_best_2 = f1_score(y_test_2, y_pred_best_2)\n",
    "roc_auc_best_2 = roc_auc_score(y_test_2, y_pred_best_2)\n",
    "\n",
    "print(f\"Accuracy after Hyperparameter Tuning: {accuracy_best_2}\")\n",
    "print(f\"Precision after Hyperparameter Tuning: {precision_best_2}\")\n",
    "print(f\"Recall after Hyperparameter Tuning: {recall_best_2}\")\n",
    "print(f\"F1-Score after Hyperparameter Tuning: {f1_best_2}\")\n",
    "print(f\"ROC AUC Score after Hyperparameter Tuning: {roc_auc_best_2}\")"
   ]
  },
  {
   "cell_type": "code",
   "execution_count": null,
   "id": "13479512",
   "metadata": {},
   "outputs": [],
   "source": [
    "\n",
    "import pandas as pd\n",
    "\n",
    "# Define the data\n",
    "metric_2 = {\n",
    "    'Metric': ['Accuracy', 'Precision', 'Recall', 'F1-Score', 'ROC AUC'],\n",
    "    'XGBoost': [0.5238, 0.5273, 0.8788, 0.6591, 0.5060],\n",
    "    'Logistic Regression': [0.5238, 0.5246, 0.9697, 0.6809, 0.5015],\n",
    "    'Random Forest': [0.5873, 0.5778, 0.7879, 0.6667, 0.5773]\n",
    "}\n",
    "\n",
    "# Create the DataFrame and round for readability\n",
    "df_2 = pd.DataFrame(metric_2).round(4)\n",
    "\n",
    "# Set 'Metric' as index and transpose\n",
    "df_2_transposed = df_2.set_index('Metric').T\n",
    "\n",
    "# Optional: Rename columns for clarity\n",
    "df_2_transposed.columns = ['Accuracy', 'Precision', 'Recall', 'F1-Score', 'ROC AUC Score']\n",
    "\n",
    "print(df_2_transposed)\n"
   ]
  },
  {
   "cell_type": "markdown",
   "id": "24477e4f",
   "metadata": {},
   "source": [
    "# Part1 Result"
   ]
  },
  {
   "cell_type": "code",
   "execution_count": null,
   "id": "43f18206",
   "metadata": {},
   "outputs": [],
   "source": [
    "\n",
    "# Define the data\n",
    "metrics = {\n",
    "    'Metric': ['Accuracy', 'Precision', 'Recall', 'F1-Score', 'ROC AUC'],\n",
    "    'XGBoost': [0.5556, 0.5510, 0.8182, 0.6585, 0.5424],\n",
    "    'Logistic Regression': [0.5397, 0.5333, 0.9697, 0.6882, 0.5182],\n",
    "    'Random Forest': [0.5873, 0.5814, 0.7576, 0.6579, 0.5788]\n",
    "}\n",
    "\n",
    "# Create the DataFrame\n",
    "df = pd.DataFrame(metrics)\n",
    "\n",
    "df\n"
   ]
  },
  {
   "cell_type": "markdown",
   "id": "916c9684",
   "metadata": {},
   "source": [
    "Summary :\n",
    "\n",
    "XGBoost:\n",
    "\n",
    "-> Accuracy and precision decreased in part 2, but recall increased.\n",
    "\n",
    "->F1-score and ROC AUC remained similar or slightly decreased.\n",
    "\n",
    "Logistic Regression:\n",
    "\n",
    "-> Accuracy, precision, F1-score, and ROC AUC slightly decreased in part 2 but recall unchanged.\n",
    "\n",
    "Random Forest:\n",
    "\n",
    "->Metrics are very stable across both sets, with only minor changes."
   ]
  },
  {
   "cell_type": "markdown",
   "id": "08810fee",
   "metadata": {},
   "source": [
    "# How feature reduction impacted performance?"
   ]
  },
  {
   "cell_type": "markdown",
   "id": "bb169f0d",
   "metadata": {},
   "source": [
    "* Logistic Regression, being a simpler model, may have suffered from information loss due to aggressive feature reduction.\n",
    "\n",
    "* For XGBoost, feature reduction may have removed some informative variables, causing a slight drop in overall prediction, but the model became more sensitive (higher recall), possibly at the cost of more false positives.\n",
    "\n",
    "* Random Forest appears robust to feature reduction in this case, likely because it can effectively utilize the most informative features and ignore the rest.\n",
    "\n"
   ]
  },
  {
   "cell_type": "markdown",
   "id": "8695228f",
   "metadata": {},
   "source": [
    "\n",
    "# Optimal feature count for each model"
   ]
  },
  {
   "cell_type": "code",
   "execution_count": null,
   "id": "c4218dec",
   "metadata": {},
   "outputs": [],
   "source": [
    "#Logistic Regression\n",
    "#using L1 regularization path\n",
    "\n",
    "from sklearn.linear_model import LogisticRegression\n",
    "from sklearn.feature_selection import SelectFromModel\n",
    "from sklearn.model_selection import cross_val_score\n",
    "\n",
    "model = LogisticRegression(penalty='l1', solver='liblinear')\n",
    "selector = SelectFromModel(model)\n",
    "selector.fit(X, y)\n",
    "selected_features = X.columns[selector.get_support()]\n",
    "selected_features.value_counts().sum()\n"
   ]
  },
  {
   "cell_type": "markdown",
   "id": "042a9a24",
   "metadata": {},
   "source": [
    "Optimal feature count for Logistic regression is 16.\n"
   ]
  },
  {
   "cell_type": "code",
   "execution_count": null,
   "id": "df14f8a2",
   "metadata": {},
   "outputs": [],
   "source": [
    "#Random forest\n",
    "#Using RFE (Recursive feature elimination)\n",
    "\n",
    "from sklearn.ensemble import RandomForestClassifier\n",
    "from sklearn.feature_selection import RFE\n",
    "from sklearn.model_selection import cross_val_score\n",
    "import matplotlib.pyplot as plt\n",
    "import numpy as np\n",
    "\n",
    "rf = RandomForestClassifier(random_state=42)\n",
    "feature_range = range(2, X.shape[1] + 1)  # Try from 2 up to all features\n",
    "scores = []\n",
    "\n",
    "for n_features in feature_range:\n",
    "    rfe = RFE(rf, n_features_to_select=n_features)\n",
    "    X_rfe = rfe.fit_transform(X, y)\n",
    "    score = cross_val_score(rf, X_rfe, y, cv=5, scoring='accuracy').mean()\n",
    "    scores.append(score)\n",
    "\n",
    "# Find the optimal number of features\n",
    "optimal_n = feature_range[np.argmax(scores)]\n",
    "optimal_score = max(scores)\n",
    "\n",
    "print(f\"Optimal number of features: {optimal_n}\")\n",
    "print(f\"Best cross-validated accuracy: {optimal_score:.4f}\")\n",
    "\n",
    "plt.plot(feature_range, scores, marker='o')\n",
    "plt.xlabel('Number of Selected Features')\n",
    "plt.ylabel('Cross-Validated Accuracy')\n",
    "plt.title('RFE with Random Forest: Feature Selection')\n",
    "plt.grid(True)\n",
    "plt.show()\n"
   ]
  },
  {
   "cell_type": "markdown",
   "id": "2d39a853",
   "metadata": {},
   "source": [
    "Optimal number of features for random forest is 14."
   ]
  },
  {
   "cell_type": "code",
   "execution_count": null,
   "id": "241e2f48",
   "metadata": {},
   "outputs": [],
   "source": [
    "#XGBoost\n",
    "\n",
    "import xgboost as xgb\n",
    "from sklearn.model_selection import cross_val_score\n",
    "import matplotlib.pyplot as plt\n",
    "import numpy as np\n",
    "\n",
    "model = xgb.XGBClassifier()\n",
    "model.fit(X, y)\n",
    "importances = model.feature_importances_\n",
    "indices = importances.argsort()[::-1]\n",
    "\n",
    "n_features_list = [5, 10, 15, 20, 25, 30, 35, 40]\n",
    "scores = []\n",
    "\n",
    "for n in n_features_list:\n",
    "    top_features = X.columns[indices[:n]]\n",
    "    score = cross_val_score(model, X[top_features], y, cv=5).mean()\n",
    "    scores.append(score)\n",
    "    print(f\"Top {n} features, CV Score: {score:.4f}\")\n",
    "\n",
    "# Find the maximum score\n",
    "max_score = max(scores)\n",
    "threshold = 0.95 * max_score  # 95% of the best score\n",
    "\n",
    "# Find the smallest n with score >= threshold\n",
    "for n, score in zip(n_features_list, scores):\n",
    "    if score >= threshold:\n",
    "        optimal_n = n\n",
    "        optimal_score = score\n",
    "        break\n",
    "\n",
    "print(f\"\\nOptimal number of features: {optimal_n}\")\n",
    "print(f\"Cross-validated score at optimal n: {optimal_score:.4f}\")\n",
    "\n",
    "\n",
    "plt.plot(n_features_list, scores, marker='o')\n",
    "plt.axhline(threshold, color='r', linestyle='--', label='95% of max score')\n",
    "plt.xlabel('Number of Top Features')\n",
    "plt.ylabel('CV Score')\n",
    "plt.title('XGBoost Feature Selection')\n",
    "plt.legend()\n",
    "plt.show()\n",
    "\n"
   ]
  },
  {
   "cell_type": "markdown",
   "id": "f916d71c",
   "metadata": {},
   "source": [
    "Optimal number of feature for XGboost is 5."
   ]
  },
  {
   "cell_type": "code",
   "execution_count": null,
   "id": "9df608a0",
   "metadata": {
    "scrolled": true
   },
   "outputs": [],
   "source": [
    "# Calculating feature importances\n",
    "\n",
    "feature_importances = xgb_best.feature_importances_\n",
    "\n",
    "# Sort the feature importances in descending order and get the indices\n",
    "\n",
    "sorted_indices = np.argsort(feature_importances)[::-1]\n",
    "\n",
    "# Ploting feature importances\n",
    "plt.figure(figsize=(12, 8))\n",
    "\n",
    "plt.title(\"Feature Importance - XGBoost\")\n",
    "plt.bar(X.columns[sorted_indices], feature_importances[sorted_indices])\n",
    "plt.xticks(rotation=90)\n",
    "plt.grid()\n",
    "plt.show()"
   ]
  },
  {
   "cell_type": "code",
   "execution_count": null,
   "id": "784bc0c7",
   "metadata": {},
   "outputs": [],
   "source": [
    "#logistic regression\n",
    "\n",
    "import numpy as np\n",
    "import pandas as pd\n",
    "import matplotlib.pyplot as plt\n",
    "\n",
    "# Calculate absolute value of coefficients as importance\n",
    "importance = np.abs(logistic_best.coef_[0])\n",
    "feature_importance = pd.Series(importance, index=X.columns)\n",
    "\n",
    "# Sort importances in descending order\n",
    "feature_importance = feature_importance.sort_values(ascending=False)\n",
    "\n",
    "# Plot\n",
    "plt.figure(figsize=(12, 6))\n",
    "plt.title(\"Feature Importance - Logistic Regression\")\n",
    "plt.bar(feature_importance.index, feature_importance.values)\n",
    "plt.xticks(rotation=90)\n",
    "plt.grid(axis='y')\n",
    "plt.tight_layout()\n",
    "plt.show()\n",
    "\n"
   ]
  },
  {
   "cell_type": "code",
   "execution_count": null,
   "id": "a717f94f",
   "metadata": {},
   "outputs": [],
   "source": [
    "from sklearn.ensemble import RandomForestClassifier\n",
    "import pandas as pd\n",
    "import matplotlib.pyplot as plt\n",
    "\n",
    "# Get feature importances\n",
    "importances = rf_best.feature_importances_\n",
    "\n",
    "# Create a DataFrame for better readability\n",
    "feature_importance = pd.DataFrame({'Feature': X.columns, 'Importance': importances})\n",
    "feature_importance = feature_importance.sort_values(by='Importance', ascending=False)\n",
    "\n",
    "# Plot feature importances\n",
    "plt.figure(figsize=(10, 6))\n",
    "plt.bar(feature_importance['Feature'], feature_importance['Importance'])\n",
    "plt.title('Random Forest Feature Importances')\n",
    "plt.xlabel('Feature')\n",
    "plt.ylabel('Importance')\n",
    "plt.xticks(rotation=90)\n",
    "plt.tight_layout()\n",
    "plt.show()\n"
   ]
  },
  {
   "cell_type": "code",
   "execution_count": null,
   "id": "18833e9d",
   "metadata": {},
   "outputs": [],
   "source": []
  }
 ],
 "metadata": {
  "kernelspec": {
   "display_name": "Python 3 (ipykernel)",
   "language": "python",
   "name": "python3"
  },
  "language_info": {
   "codemirror_mode": {
    "name": "ipython",
    "version": 3
   },
   "file_extension": ".py",
   "mimetype": "text/x-python",
   "name": "python",
   "nbconvert_exporter": "python",
   "pygments_lexer": "ipython3",
   "version": "3.10.11"
  }
 },
 "nbformat": 4,
 "nbformat_minor": 5
}
